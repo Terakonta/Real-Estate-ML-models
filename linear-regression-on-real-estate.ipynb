{
 "cells": [
  {
   "cell_type": "code",
   "execution_count": 1,
   "id": "949e9641",
   "metadata": {
    "_cell_guid": "b1076dfc-b9ad-4769-8c92-a6c4dae69d19",
    "_uuid": "8f2839f25d086af736a60e9eeb907d3b93b6e0e5",
    "execution": {
     "iopub.execute_input": "2024-03-31T00:02:06.568926Z",
     "iopub.status.busy": "2024-03-31T00:02:06.568554Z",
     "iopub.status.idle": "2024-03-31T00:02:10.175873Z",
     "shell.execute_reply": "2024-03-31T00:02:10.175043Z"
    },
    "papermill": {
     "duration": 3.622157,
     "end_time": "2024-03-31T00:02:10.178469",
     "exception": false,
     "start_time": "2024-03-31T00:02:06.556312",
     "status": "completed"
    },
    "tags": []
   },
   "outputs": [],
   "source": [
    "import pandas as pd\n",
    "import numpy as np\n",
    "import seaborn as sns\n",
    "import matplotlib.pyplot as plt\n",
    "%matplotlib inline\n",
    "import matplotlib\n",
    "import warnings\n",
    "warnings.filterwarnings('ignore')\n",
    "matplotlib.rcParams[\"figure.figsize\"] = (20,10)"
   ]
  },
  {
   "cell_type": "markdown",
   "id": "5f64c09a",
   "metadata": {
    "papermill": {
     "duration": 0.010026,
     "end_time": "2024-03-31T00:02:10.198964",
     "exception": false,
     "start_time": "2024-03-31T00:02:10.188938",
     "status": "completed"
    },
    "tags": []
   },
   "source": [
    "# Overview"
   ]
  },
  {
   "cell_type": "code",
   "execution_count": 2,
   "id": "a821c73d",
   "metadata": {
    "execution": {
     "iopub.execute_input": "2024-03-31T00:02:10.221192Z",
     "iopub.status.busy": "2024-03-31T00:02:10.220735Z",
     "iopub.status.idle": "2024-03-31T00:02:10.248736Z",
     "shell.execute_reply": "2024-03-31T00:02:10.247852Z"
    },
    "papermill": {
     "duration": 0.042036,
     "end_time": "2024-03-31T00:02:10.251323",
     "exception": false,
     "start_time": "2024-03-31T00:02:10.209287",
     "status": "completed"
    },
    "tags": []
   },
   "outputs": [],
   "source": [
    "df1 = pd.read_csv('/kaggle/input/real-estate-price-prediction/Real estate.csv')"
   ]
  },
  {
   "cell_type": "code",
   "execution_count": 3,
   "id": "17b1337e",
   "metadata": {
    "execution": {
     "iopub.execute_input": "2024-03-31T00:02:10.274934Z",
     "iopub.status.busy": "2024-03-31T00:02:10.274197Z",
     "iopub.status.idle": "2024-03-31T00:02:10.301175Z",
     "shell.execute_reply": "2024-03-31T00:02:10.300102Z"
    },
    "papermill": {
     "duration": 0.041558,
     "end_time": "2024-03-31T00:02:10.303790",
     "exception": false,
     "start_time": "2024-03-31T00:02:10.262232",
     "status": "completed"
    },
    "tags": []
   },
   "outputs": [
    {
     "data": {
      "text/html": [
       "<div>\n",
       "<style scoped>\n",
       "    .dataframe tbody tr th:only-of-type {\n",
       "        vertical-align: middle;\n",
       "    }\n",
       "\n",
       "    .dataframe tbody tr th {\n",
       "        vertical-align: top;\n",
       "    }\n",
       "\n",
       "    .dataframe thead th {\n",
       "        text-align: right;\n",
       "    }\n",
       "</style>\n",
       "<table border=\"1\" class=\"dataframe\">\n",
       "  <thead>\n",
       "    <tr style=\"text-align: right;\">\n",
       "      <th></th>\n",
       "      <th>No</th>\n",
       "      <th>X1 transaction date</th>\n",
       "      <th>X2 house age</th>\n",
       "      <th>X3 distance to the nearest MRT station</th>\n",
       "      <th>X4 number of convenience stores</th>\n",
       "      <th>X5 latitude</th>\n",
       "      <th>X6 longitude</th>\n",
       "      <th>Y house price of unit area</th>\n",
       "    </tr>\n",
       "  </thead>\n",
       "  <tbody>\n",
       "    <tr>\n",
       "      <th>0</th>\n",
       "      <td>1</td>\n",
       "      <td>2012.917</td>\n",
       "      <td>32.0</td>\n",
       "      <td>84.87882</td>\n",
       "      <td>10</td>\n",
       "      <td>24.98298</td>\n",
       "      <td>121.54024</td>\n",
       "      <td>37.9</td>\n",
       "    </tr>\n",
       "    <tr>\n",
       "      <th>1</th>\n",
       "      <td>2</td>\n",
       "      <td>2012.917</td>\n",
       "      <td>19.5</td>\n",
       "      <td>306.59470</td>\n",
       "      <td>9</td>\n",
       "      <td>24.98034</td>\n",
       "      <td>121.53951</td>\n",
       "      <td>42.2</td>\n",
       "    </tr>\n",
       "    <tr>\n",
       "      <th>2</th>\n",
       "      <td>3</td>\n",
       "      <td>2013.583</td>\n",
       "      <td>13.3</td>\n",
       "      <td>561.98450</td>\n",
       "      <td>5</td>\n",
       "      <td>24.98746</td>\n",
       "      <td>121.54391</td>\n",
       "      <td>47.3</td>\n",
       "    </tr>\n",
       "    <tr>\n",
       "      <th>3</th>\n",
       "      <td>4</td>\n",
       "      <td>2013.500</td>\n",
       "      <td>13.3</td>\n",
       "      <td>561.98450</td>\n",
       "      <td>5</td>\n",
       "      <td>24.98746</td>\n",
       "      <td>121.54391</td>\n",
       "      <td>54.8</td>\n",
       "    </tr>\n",
       "    <tr>\n",
       "      <th>4</th>\n",
       "      <td>5</td>\n",
       "      <td>2012.833</td>\n",
       "      <td>5.0</td>\n",
       "      <td>390.56840</td>\n",
       "      <td>5</td>\n",
       "      <td>24.97937</td>\n",
       "      <td>121.54245</td>\n",
       "      <td>43.1</td>\n",
       "    </tr>\n",
       "  </tbody>\n",
       "</table>\n",
       "</div>"
      ],
      "text/plain": [
       "   No  X1 transaction date  X2 house age  \\\n",
       "0   1             2012.917          32.0   \n",
       "1   2             2012.917          19.5   \n",
       "2   3             2013.583          13.3   \n",
       "3   4             2013.500          13.3   \n",
       "4   5             2012.833           5.0   \n",
       "\n",
       "   X3 distance to the nearest MRT station  X4 number of convenience stores  \\\n",
       "0                                84.87882                               10   \n",
       "1                               306.59470                                9   \n",
       "2                               561.98450                                5   \n",
       "3                               561.98450                                5   \n",
       "4                               390.56840                                5   \n",
       "\n",
       "   X5 latitude  X6 longitude  Y house price of unit area  \n",
       "0     24.98298     121.54024                        37.9  \n",
       "1     24.98034     121.53951                        42.2  \n",
       "2     24.98746     121.54391                        47.3  \n",
       "3     24.98746     121.54391                        54.8  \n",
       "4     24.97937     121.54245                        43.1  "
      ]
     },
     "execution_count": 3,
     "metadata": {},
     "output_type": "execute_result"
    }
   ],
   "source": [
    "df1.head()"
   ]
  },
  {
   "cell_type": "code",
   "execution_count": 4,
   "id": "619a28d3",
   "metadata": {
    "execution": {
     "iopub.execute_input": "2024-03-31T00:02:10.332523Z",
     "iopub.status.busy": "2024-03-31T00:02:10.331599Z",
     "iopub.status.idle": "2024-03-31T00:02:10.338345Z",
     "shell.execute_reply": "2024-03-31T00:02:10.337347Z"
    },
    "papermill": {
     "duration": 0.023971,
     "end_time": "2024-03-31T00:02:10.340933",
     "exception": false,
     "start_time": "2024-03-31T00:02:10.316962",
     "status": "completed"
    },
    "tags": []
   },
   "outputs": [
    {
     "data": {
      "text/plain": [
       "(414, 8)"
      ]
     },
     "execution_count": 4,
     "metadata": {},
     "output_type": "execute_result"
    }
   ],
   "source": [
    "df1.shape"
   ]
  },
  {
   "cell_type": "code",
   "execution_count": 5,
   "id": "1635a4d6",
   "metadata": {
    "execution": {
     "iopub.execute_input": "2024-03-31T00:02:10.366364Z",
     "iopub.status.busy": "2024-03-31T00:02:10.365539Z",
     "iopub.status.idle": "2024-03-31T00:02:10.377578Z",
     "shell.execute_reply": "2024-03-31T00:02:10.376500Z"
    },
    "papermill": {
     "duration": 0.026588,
     "end_time": "2024-03-31T00:02:10.379886",
     "exception": false,
     "start_time": "2024-03-31T00:02:10.353298",
     "status": "completed"
    },
    "tags": []
   },
   "outputs": [],
   "source": [
    "df2 = df1.drop(['No', 'X1 transaction date'], axis='columns')"
   ]
  },
  {
   "cell_type": "code",
   "execution_count": 6,
   "id": "0a57dd18",
   "metadata": {
    "execution": {
     "iopub.execute_input": "2024-03-31T00:02:10.404645Z",
     "iopub.status.busy": "2024-03-31T00:02:10.404329Z",
     "iopub.status.idle": "2024-03-31T00:02:10.419867Z",
     "shell.execute_reply": "2024-03-31T00:02:10.418813Z"
    },
    "papermill": {
     "duration": 0.030303,
     "end_time": "2024-03-31T00:02:10.422184",
     "exception": false,
     "start_time": "2024-03-31T00:02:10.391881",
     "status": "completed"
    },
    "tags": []
   },
   "outputs": [
    {
     "data": {
      "text/html": [
       "<div>\n",
       "<style scoped>\n",
       "    .dataframe tbody tr th:only-of-type {\n",
       "        vertical-align: middle;\n",
       "    }\n",
       "\n",
       "    .dataframe tbody tr th {\n",
       "        vertical-align: top;\n",
       "    }\n",
       "\n",
       "    .dataframe thead th {\n",
       "        text-align: right;\n",
       "    }\n",
       "</style>\n",
       "<table border=\"1\" class=\"dataframe\">\n",
       "  <thead>\n",
       "    <tr style=\"text-align: right;\">\n",
       "      <th></th>\n",
       "      <th>X2 house age</th>\n",
       "      <th>X3 distance to the nearest MRT station</th>\n",
       "      <th>X4 number of convenience stores</th>\n",
       "      <th>X5 latitude</th>\n",
       "      <th>X6 longitude</th>\n",
       "      <th>Y house price of unit area</th>\n",
       "    </tr>\n",
       "  </thead>\n",
       "  <tbody>\n",
       "    <tr>\n",
       "      <th>0</th>\n",
       "      <td>32.0</td>\n",
       "      <td>84.87882</td>\n",
       "      <td>10</td>\n",
       "      <td>24.98298</td>\n",
       "      <td>121.54024</td>\n",
       "      <td>37.9</td>\n",
       "    </tr>\n",
       "    <tr>\n",
       "      <th>1</th>\n",
       "      <td>19.5</td>\n",
       "      <td>306.59470</td>\n",
       "      <td>9</td>\n",
       "      <td>24.98034</td>\n",
       "      <td>121.53951</td>\n",
       "      <td>42.2</td>\n",
       "    </tr>\n",
       "    <tr>\n",
       "      <th>2</th>\n",
       "      <td>13.3</td>\n",
       "      <td>561.98450</td>\n",
       "      <td>5</td>\n",
       "      <td>24.98746</td>\n",
       "      <td>121.54391</td>\n",
       "      <td>47.3</td>\n",
       "    </tr>\n",
       "    <tr>\n",
       "      <th>3</th>\n",
       "      <td>13.3</td>\n",
       "      <td>561.98450</td>\n",
       "      <td>5</td>\n",
       "      <td>24.98746</td>\n",
       "      <td>121.54391</td>\n",
       "      <td>54.8</td>\n",
       "    </tr>\n",
       "    <tr>\n",
       "      <th>4</th>\n",
       "      <td>5.0</td>\n",
       "      <td>390.56840</td>\n",
       "      <td>5</td>\n",
       "      <td>24.97937</td>\n",
       "      <td>121.54245</td>\n",
       "      <td>43.1</td>\n",
       "    </tr>\n",
       "  </tbody>\n",
       "</table>\n",
       "</div>"
      ],
      "text/plain": [
       "   X2 house age  X3 distance to the nearest MRT station  \\\n",
       "0          32.0                                84.87882   \n",
       "1          19.5                               306.59470   \n",
       "2          13.3                               561.98450   \n",
       "3          13.3                               561.98450   \n",
       "4           5.0                               390.56840   \n",
       "\n",
       "   X4 number of convenience stores  X5 latitude  X6 longitude  \\\n",
       "0                               10     24.98298     121.54024   \n",
       "1                                9     24.98034     121.53951   \n",
       "2                                5     24.98746     121.54391   \n",
       "3                                5     24.98746     121.54391   \n",
       "4                                5     24.97937     121.54245   \n",
       "\n",
       "   Y house price of unit area  \n",
       "0                        37.9  \n",
       "1                        42.2  \n",
       "2                        47.3  \n",
       "3                        54.8  \n",
       "4                        43.1  "
      ]
     },
     "execution_count": 6,
     "metadata": {},
     "output_type": "execute_result"
    }
   ],
   "source": [
    "df2.head()"
   ]
  },
  {
   "cell_type": "markdown",
   "id": "8adc4f70",
   "metadata": {
    "papermill": {
     "duration": 0.011362,
     "end_time": "2024-03-31T00:02:10.445567",
     "exception": false,
     "start_time": "2024-03-31T00:02:10.434205",
     "status": "completed"
    },
    "tags": []
   },
   "source": [
    "# Cleaning"
   ]
  },
  {
   "cell_type": "code",
   "execution_count": 7,
   "id": "e53d03c7",
   "metadata": {
    "execution": {
     "iopub.execute_input": "2024-03-31T00:02:10.471005Z",
     "iopub.status.busy": "2024-03-31T00:02:10.470052Z",
     "iopub.status.idle": "2024-03-31T00:02:10.481760Z",
     "shell.execute_reply": "2024-03-31T00:02:10.480795Z"
    },
    "papermill": {
     "duration": 0.026555,
     "end_time": "2024-03-31T00:02:10.483844",
     "exception": false,
     "start_time": "2024-03-31T00:02:10.457289",
     "status": "completed"
    },
    "tags": []
   },
   "outputs": [
    {
     "data": {
      "text/plain": [
       "X2 house age                              0\n",
       "X3 distance to the nearest MRT station    0\n",
       "X4 number of convenience stores           0\n",
       "X5 latitude                               0\n",
       "X6 longitude                              0\n",
       "Y house price of unit area                0\n",
       "dtype: int64"
      ]
     },
     "execution_count": 7,
     "metadata": {},
     "output_type": "execute_result"
    }
   ],
   "source": [
    "df2.isnull().sum()"
   ]
  },
  {
   "cell_type": "code",
   "execution_count": 8,
   "id": "d7a14aa8",
   "metadata": {
    "execution": {
     "iopub.execute_input": "2024-03-31T00:02:10.508342Z",
     "iopub.status.busy": "2024-03-31T00:02:10.508042Z",
     "iopub.status.idle": "2024-03-31T00:02:10.515830Z",
     "shell.execute_reply": "2024-03-31T00:02:10.514722Z"
    },
    "papermill": {
     "duration": 0.022731,
     "end_time": "2024-03-31T00:02:10.518213",
     "exception": false,
     "start_time": "2024-03-31T00:02:10.495482",
     "status": "completed"
    },
    "tags": []
   },
   "outputs": [
    {
     "data": {
      "text/plain": [
       "X2 house age                               34.80000\n",
       "X3 distance to the nearest MRT station    405.21340\n",
       "X4 number of convenience stores             1.00000\n",
       "X5 latitude                                24.97349\n",
       "X6 longitude                              121.53372\n",
       "Y house price of unit area                 41.40000\n",
       "Name: 10, dtype: float64"
      ]
     },
     "execution_count": 8,
     "metadata": {},
     "output_type": "execute_result"
    }
   ],
   "source": [
    "df2.loc[10]"
   ]
  },
  {
   "cell_type": "code",
   "execution_count": 9,
   "id": "99cc5e35",
   "metadata": {
    "execution": {
     "iopub.execute_input": "2024-03-31T00:02:10.543801Z",
     "iopub.status.busy": "2024-03-31T00:02:10.543497Z",
     "iopub.status.idle": "2024-03-31T00:02:10.563439Z",
     "shell.execute_reply": "2024-03-31T00:02:10.562513Z"
    },
    "papermill": {
     "duration": 0.034624,
     "end_time": "2024-03-31T00:02:10.565741",
     "exception": false,
     "start_time": "2024-03-31T00:02:10.531117",
     "status": "completed"
    },
    "tags": []
   },
   "outputs": [
    {
     "data": {
      "text/html": [
       "<div>\n",
       "<style scoped>\n",
       "    .dataframe tbody tr th:only-of-type {\n",
       "        vertical-align: middle;\n",
       "    }\n",
       "\n",
       "    .dataframe tbody tr th {\n",
       "        vertical-align: top;\n",
       "    }\n",
       "\n",
       "    .dataframe thead th {\n",
       "        text-align: right;\n",
       "    }\n",
       "</style>\n",
       "<table border=\"1\" class=\"dataframe\">\n",
       "  <thead>\n",
       "    <tr style=\"text-align: right;\">\n",
       "      <th></th>\n",
       "      <th>X2 house age</th>\n",
       "      <th>X3 distance to the nearest MRT station</th>\n",
       "      <th>X4 number of convenience stores</th>\n",
       "      <th>X5 latitude</th>\n",
       "      <th>X6 longitude</th>\n",
       "      <th>Y house price of unit area</th>\n",
       "    </tr>\n",
       "  </thead>\n",
       "  <tbody>\n",
       "    <tr>\n",
       "      <th>1</th>\n",
       "      <td>19.5</td>\n",
       "      <td>306.59470</td>\n",
       "      <td>9</td>\n",
       "      <td>24.98034</td>\n",
       "      <td>121.53951</td>\n",
       "      <td>42.2</td>\n",
       "    </tr>\n",
       "    <tr>\n",
       "      <th>2</th>\n",
       "      <td>13.3</td>\n",
       "      <td>561.98450</td>\n",
       "      <td>5</td>\n",
       "      <td>24.98746</td>\n",
       "      <td>121.54391</td>\n",
       "      <td>47.3</td>\n",
       "    </tr>\n",
       "    <tr>\n",
       "      <th>3</th>\n",
       "      <td>13.3</td>\n",
       "      <td>561.98450</td>\n",
       "      <td>5</td>\n",
       "      <td>24.98746</td>\n",
       "      <td>121.54391</td>\n",
       "      <td>54.8</td>\n",
       "    </tr>\n",
       "    <tr>\n",
       "      <th>4</th>\n",
       "      <td>5.0</td>\n",
       "      <td>390.56840</td>\n",
       "      <td>5</td>\n",
       "      <td>24.97937</td>\n",
       "      <td>121.54245</td>\n",
       "      <td>43.1</td>\n",
       "    </tr>\n",
       "    <tr>\n",
       "      <th>5</th>\n",
       "      <td>7.1</td>\n",
       "      <td>2175.03000</td>\n",
       "      <td>3</td>\n",
       "      <td>24.96305</td>\n",
       "      <td>121.51254</td>\n",
       "      <td>32.1</td>\n",
       "    </tr>\n",
       "    <tr>\n",
       "      <th>...</th>\n",
       "      <td>...</td>\n",
       "      <td>...</td>\n",
       "      <td>...</td>\n",
       "      <td>...</td>\n",
       "      <td>...</td>\n",
       "      <td>...</td>\n",
       "    </tr>\n",
       "    <tr>\n",
       "      <th>409</th>\n",
       "      <td>13.7</td>\n",
       "      <td>4082.01500</td>\n",
       "      <td>0</td>\n",
       "      <td>24.94155</td>\n",
       "      <td>121.50381</td>\n",
       "      <td>15.4</td>\n",
       "    </tr>\n",
       "    <tr>\n",
       "      <th>410</th>\n",
       "      <td>5.6</td>\n",
       "      <td>90.45606</td>\n",
       "      <td>9</td>\n",
       "      <td>24.97433</td>\n",
       "      <td>121.54310</td>\n",
       "      <td>50.0</td>\n",
       "    </tr>\n",
       "    <tr>\n",
       "      <th>411</th>\n",
       "      <td>18.8</td>\n",
       "      <td>390.96960</td>\n",
       "      <td>7</td>\n",
       "      <td>24.97923</td>\n",
       "      <td>121.53986</td>\n",
       "      <td>40.6</td>\n",
       "    </tr>\n",
       "    <tr>\n",
       "      <th>412</th>\n",
       "      <td>8.1</td>\n",
       "      <td>104.81010</td>\n",
       "      <td>5</td>\n",
       "      <td>24.96674</td>\n",
       "      <td>121.54067</td>\n",
       "      <td>52.5</td>\n",
       "    </tr>\n",
       "    <tr>\n",
       "      <th>413</th>\n",
       "      <td>6.5</td>\n",
       "      <td>90.45606</td>\n",
       "      <td>9</td>\n",
       "      <td>24.97433</td>\n",
       "      <td>121.54310</td>\n",
       "      <td>63.9</td>\n",
       "    </tr>\n",
       "  </tbody>\n",
       "</table>\n",
       "<p>277 rows × 6 columns</p>\n",
       "</div>"
      ],
      "text/plain": [
       "     X2 house age  X3 distance to the nearest MRT station  \\\n",
       "1            19.5                               306.59470   \n",
       "2            13.3                               561.98450   \n",
       "3            13.3                               561.98450   \n",
       "4             5.0                               390.56840   \n",
       "5             7.1                              2175.03000   \n",
       "..            ...                                     ...   \n",
       "409          13.7                              4082.01500   \n",
       "410           5.6                                90.45606   \n",
       "411          18.8                               390.96960   \n",
       "412           8.1                               104.81010   \n",
       "413           6.5                                90.45606   \n",
       "\n",
       "     X4 number of convenience stores  X5 latitude  X6 longitude  \\\n",
       "1                                  9     24.98034     121.53951   \n",
       "2                                  5     24.98746     121.54391   \n",
       "3                                  5     24.98746     121.54391   \n",
       "4                                  5     24.97937     121.54245   \n",
       "5                                  3     24.96305     121.51254   \n",
       "..                               ...          ...           ...   \n",
       "409                                0     24.94155     121.50381   \n",
       "410                                9     24.97433     121.54310   \n",
       "411                                7     24.97923     121.53986   \n",
       "412                                5     24.96674     121.54067   \n",
       "413                                9     24.97433     121.54310   \n",
       "\n",
       "     Y house price of unit area  \n",
       "1                          42.2  \n",
       "2                          47.3  \n",
       "3                          54.8  \n",
       "4                          43.1  \n",
       "5                          32.1  \n",
       "..                          ...  \n",
       "409                        15.4  \n",
       "410                        50.0  \n",
       "411                        40.6  \n",
       "412                        52.5  \n",
       "413                        63.9  \n",
       "\n",
       "[277 rows x 6 columns]"
      ]
     },
     "execution_count": 9,
     "metadata": {},
     "output_type": "execute_result"
    }
   ],
   "source": [
    "df2[~(df2['X2 house age'] > 20)]"
   ]
  },
  {
   "cell_type": "markdown",
   "id": "b012628c",
   "metadata": {
    "papermill": {
     "duration": 0.011595,
     "end_time": "2024-03-31T00:02:10.591520",
     "exception": false,
     "start_time": "2024-03-31T00:02:10.579925",
     "status": "completed"
    },
    "tags": []
   },
   "source": [
    "# Visualize"
   ]
  },
  {
   "cell_type": "code",
   "execution_count": 10,
   "id": "c33d4c9c",
   "metadata": {
    "execution": {
     "iopub.execute_input": "2024-03-31T00:02:10.617848Z",
     "iopub.status.busy": "2024-03-31T00:02:10.616955Z",
     "iopub.status.idle": "2024-03-31T00:02:11.490420Z",
     "shell.execute_reply": "2024-03-31T00:02:11.489293Z"
    },
    "papermill": {
     "duration": 0.889514,
     "end_time": "2024-03-31T00:02:11.492989",
     "exception": false,
     "start_time": "2024-03-31T00:02:10.603475",
     "status": "completed"
    },
    "tags": []
   },
   "outputs": [
    {
     "data": {
      "image/png": "[encoded data removed]",
      "text/plain": [
       "<Figure size 1000x600 with 6 Axes>"
      ]
     },
     "metadata": {},
     "output_type": "display_data"
    }
   ],
   "source": [
    "df2.plot(\n",
    "    kind='box', \n",
    "    subplots=True, \n",
    "    sharey=False, \n",
    "    figsize=(10, 6),\n",
    "    layout=(2, 3)\n",
    ")\n",
    " \n",
    "# increase spacing between subplots\n",
    "plt.subplots_adjust(wspace=0.5) \n",
    "plt.show()"
   ]
  },
  {
   "cell_type": "code",
   "execution_count": 11,
   "id": "c37ecfd3",
   "metadata": {
    "execution": {
     "iopub.execute_input": "2024-03-31T00:02:11.521652Z",
     "iopub.status.busy": "2024-03-31T00:02:11.521254Z",
     "iopub.status.idle": "2024-03-31T00:02:12.860814Z",
     "shell.execute_reply": "2024-03-31T00:02:12.859731Z"
    },
    "papermill": {
     "duration": 1.35682,
     "end_time": "2024-03-31T00:02:12.864074",
     "exception": false,
     "start_time": "2024-03-31T00:02:11.507254",
     "status": "completed"
    },
    "tags": []
   },
   "outputs": [
    {
     "data": {
      "image/png": "[encoded data removed]",
      "text/plain": [
       "<Figure size 2000x1000 with 5 Axes>"
      ]
     },
     "metadata": {},
     "output_type": "display_data"
    }
   ],
   "source": [
    "figure, axis = plt.subplots(2, 3) \n",
    "  \n",
    "# For Sine Function \n",
    "axis[0, 0].scatter(df2['X2 house age'], df2['Y house price of unit area']) \n",
    "axis[0, 0].set_title(\"House age vs House price\") \n",
    "  \n",
    "axis[0, 1].scatter(df2['X3 distance to the nearest MRT station'], df2['Y house price of unit area']) \n",
    "axis[0, 1].set_title(\"Distance to nearest MRT vs House price\") \n",
    "\n",
    "axis[0, 2].scatter(df2['X4 number of convenience stores'], df2['Y house price of unit area']) \n",
    "axis[0, 2].set_title(\"Number of convenience stores vs House price\") \n",
    "\n",
    "axis[1, 0].scatter(df2['X5 latitude'], df2['Y house price of unit area']) \n",
    "axis[1, 0].set_title(\"Latitude vs House price\") \n",
    "\n",
    "axis[1, 1].scatter(df2['X6 longitude'], df2['Y house price of unit area']) \n",
    "axis[1, 1].set_title(\"Longitude vs House price\") \n",
    "\n",
    "figure.delaxes(axis[1, 2])\n"
   ]
  },
  {
   "cell_type": "markdown",
   "id": "352b53f6",
   "metadata": {
    "papermill": {
     "duration": 0.015375,
     "end_time": "2024-03-31T00:02:12.894803",
     "exception": false,
     "start_time": "2024-03-31T00:02:12.879428",
     "status": "completed"
    },
    "tags": []
   },
   "source": [
    "# Training"
   ]
  },
  {
   "cell_type": "code",
   "execution_count": 12,
   "id": "0461da27",
   "metadata": {
    "execution": {
     "iopub.execute_input": "2024-03-31T00:02:12.926150Z",
     "iopub.status.busy": "2024-03-31T00:02:12.925802Z",
     "iopub.status.idle": "2024-03-31T00:02:12.940910Z",
     "shell.execute_reply": "2024-03-31T00:02:12.939907Z"
    },
    "papermill": {
     "duration": 0.032898,
     "end_time": "2024-03-31T00:02:12.943039",
     "exception": false,
     "start_time": "2024-03-31T00:02:12.910141",
     "status": "completed"
    },
    "tags": []
   },
   "outputs": [
    {
     "data": {
      "text/html": [
       "<div>\n",
       "<style scoped>\n",
       "    .dataframe tbody tr th:only-of-type {\n",
       "        vertical-align: middle;\n",
       "    }\n",
       "\n",
       "    .dataframe tbody tr th {\n",
       "        vertical-align: top;\n",
       "    }\n",
       "\n",
       "    .dataframe thead th {\n",
       "        text-align: right;\n",
       "    }\n",
       "</style>\n",
       "<table border=\"1\" class=\"dataframe\">\n",
       "  <thead>\n",
       "    <tr style=\"text-align: right;\">\n",
       "      <th></th>\n",
       "      <th>X2 house age</th>\n",
       "      <th>X3 distance to the nearest MRT station</th>\n",
       "      <th>X4 number of convenience stores</th>\n",
       "      <th>X5 latitude</th>\n",
       "      <th>X6 longitude</th>\n",
       "    </tr>\n",
       "  </thead>\n",
       "  <tbody>\n",
       "    <tr>\n",
       "      <th>0</th>\n",
       "      <td>32.0</td>\n",
       "      <td>84.87882</td>\n",
       "      <td>10</td>\n",
       "      <td>24.98298</td>\n",
       "      <td>121.54024</td>\n",
       "    </tr>\n",
       "    <tr>\n",
       "      <th>1</th>\n",
       "      <td>19.5</td>\n",
       "      <td>306.59470</td>\n",
       "      <td>9</td>\n",
       "      <td>24.98034</td>\n",
       "      <td>121.53951</td>\n",
       "    </tr>\n",
       "    <tr>\n",
       "      <th>2</th>\n",
       "      <td>13.3</td>\n",
       "      <td>561.98450</td>\n",
       "      <td>5</td>\n",
       "      <td>24.98746</td>\n",
       "      <td>121.54391</td>\n",
       "    </tr>\n",
       "    <tr>\n",
       "      <th>3</th>\n",
       "      <td>13.3</td>\n",
       "      <td>561.98450</td>\n",
       "      <td>5</td>\n",
       "      <td>24.98746</td>\n",
       "      <td>121.54391</td>\n",
       "    </tr>\n",
       "    <tr>\n",
       "      <th>4</th>\n",
       "      <td>5.0</td>\n",
       "      <td>390.56840</td>\n",
       "      <td>5</td>\n",
       "      <td>24.97937</td>\n",
       "      <td>121.54245</td>\n",
       "    </tr>\n",
       "  </tbody>\n",
       "</table>\n",
       "</div>"
      ],
      "text/plain": [
       "   X2 house age  X3 distance to the nearest MRT station  \\\n",
       "0          32.0                                84.87882   \n",
       "1          19.5                               306.59470   \n",
       "2          13.3                               561.98450   \n",
       "3          13.3                               561.98450   \n",
       "4           5.0                               390.56840   \n",
       "\n",
       "   X4 number of convenience stores  X5 latitude  X6 longitude  \n",
       "0                               10     24.98298     121.54024  \n",
       "1                                9     24.98034     121.53951  \n",
       "2                                5     24.98746     121.54391  \n",
       "3                                5     24.98746     121.54391  \n",
       "4                                5     24.97937     121.54245  "
      ]
     },
     "execution_count": 12,
     "metadata": {},
     "output_type": "execute_result"
    }
   ],
   "source": [
    "X = df2.drop('Y house price of unit area', axis='columns')\n",
    "X.head()"
   ]
  },
  {
   "cell_type": "code",
   "execution_count": 13,
   "id": "8c2dc02b",
   "metadata": {
    "execution": {
     "iopub.execute_input": "2024-03-31T00:02:12.974598Z",
     "iopub.status.busy": "2024-03-31T00:02:12.973985Z",
     "iopub.status.idle": "2024-03-31T00:02:12.981635Z",
     "shell.execute_reply": "2024-03-31T00:02:12.980706Z"
    },
    "papermill": {
     "duration": 0.026005,
     "end_time": "2024-03-31T00:02:12.984057",
     "exception": false,
     "start_time": "2024-03-31T00:02:12.958052",
     "status": "completed"
    },
    "tags": []
   },
   "outputs": [
    {
     "data": {
      "text/plain": [
       "0    37.9\n",
       "1    42.2\n",
       "2    47.3\n",
       "3    54.8\n",
       "4    43.1\n",
       "Name: Y house price of unit area, dtype: float64"
      ]
     },
     "execution_count": 13,
     "metadata": {},
     "output_type": "execute_result"
    }
   ],
   "source": [
    "y = df2['Y house price of unit area']\n",
    "y.head()"
   ]
  },
  {
   "cell_type": "code",
   "execution_count": 14,
   "id": "5a44d2f8",
   "metadata": {
    "execution": {
     "iopub.execute_input": "2024-03-31T00:02:13.016473Z",
     "iopub.status.busy": "2024-03-31T00:02:13.015712Z",
     "iopub.status.idle": "2024-03-31T00:02:13.536550Z",
     "shell.execute_reply": "2024-03-31T00:02:13.535682Z"
    },
    "papermill": {
     "duration": 0.53978,
     "end_time": "2024-03-31T00:02:13.539272",
     "exception": false,
     "start_time": "2024-03-31T00:02:12.999492",
     "status": "completed"
    },
    "tags": []
   },
   "outputs": [],
   "source": [
    "from sklearn.model_selection import train_test_split\n",
    "X_train, X_test, y_train, y_test = train_test_split(X,y, test_size=0.2, random_state=10)"
   ]
  },
  {
   "cell_type": "markdown",
   "id": "09cbb952",
   "metadata": {
    "papermill": {
     "duration": 0.01416,
     "end_time": "2024-03-31T00:02:13.569593",
     "exception": false,
     "start_time": "2024-03-31T00:02:13.555433",
     "status": "completed"
    },
    "tags": []
   },
   "source": [
    "### Multiple Linear Regression"
   ]
  },
  {
   "cell_type": "code",
   "execution_count": 15,
   "id": "47656384",
   "metadata": {
    "execution": {
     "iopub.execute_input": "2024-03-31T00:02:13.600258Z",
     "iopub.status.busy": "2024-03-31T00:02:13.599731Z",
     "iopub.status.idle": "2024-03-31T00:02:13.802052Z",
     "shell.execute_reply": "2024-03-31T00:02:13.801005Z"
    },
    "papermill": {
     "duration": 0.220593,
     "end_time": "2024-03-31T00:02:13.804599",
     "exception": false,
     "start_time": "2024-03-31T00:02:13.584006",
     "status": "completed"
    },
    "tags": []
   },
   "outputs": [
    {
     "data": {
      "text/plain": [
       "0.606245741231465"
      ]
     },
     "execution_count": 15,
     "metadata": {},
     "output_type": "execute_result"
    }
   ],
   "source": [
    "from sklearn.linear_model import LinearRegression\n",
    "lr_clf=  LinearRegression()\n",
    "lr_clf.fit(X_train, y_train)\n",
    "lr_clf.score(X_test,y_test)"
   ]
  },
  {
   "cell_type": "code",
   "execution_count": 16,
   "id": "13d33ba6",
   "metadata": {
    "execution": {
     "iopub.execute_input": "2024-03-31T00:02:13.838849Z",
     "iopub.status.busy": "2024-03-31T00:02:13.838445Z",
     "iopub.status.idle": "2024-03-31T00:02:13.873170Z",
     "shell.execute_reply": "2024-03-31T00:02:13.872200Z"
    },
    "papermill": {
     "duration": 0.053666,
     "end_time": "2024-03-31T00:02:13.875390",
     "exception": false,
     "start_time": "2024-03-31T00:02:13.821724",
     "status": "completed"
    },
    "tags": []
   },
   "outputs": [
    {
     "data": {
      "text/plain": [
       "array([0.64206915, 0.60817301, 0.42958141, 0.54223732, 0.61099613])"
      ]
     },
     "execution_count": 16,
     "metadata": {},
     "output_type": "execute_result"
    }
   ],
   "source": [
    "from sklearn.model_selection import ShuffleSplit\n",
    "from sklearn.model_selection import cross_val_score\n",
    "\n",
    "cv = ShuffleSplit(n_splits=5, test_size=0.2, random_state=0)\n",
    "\n",
    "cross_val_score(LinearRegression(), X, y, cv=cv)"
   ]
  },
  {
   "cell_type": "code",
   "execution_count": 17,
   "id": "458506bf",
   "metadata": {
    "execution": {
     "iopub.execute_input": "2024-03-31T00:02:13.907941Z",
     "iopub.status.busy": "2024-03-31T00:02:13.907591Z",
     "iopub.status.idle": "2024-03-31T00:02:14.400907Z",
     "shell.execute_reply": "2024-03-31T00:02:14.399251Z"
    },
    "papermill": {
     "duration": 0.512909,
     "end_time": "2024-03-31T00:02:14.403972",
     "exception": false,
     "start_time": "2024-03-31T00:02:13.891063",
     "status": "completed"
    },
    "tags": []
   },
   "outputs": [
    {
     "data": {
      "text/html": [
       "<div>\n",
       "<style scoped>\n",
       "    .dataframe tbody tr th:only-of-type {\n",
       "        vertical-align: middle;\n",
       "    }\n",
       "\n",
       "    .dataframe tbody tr th {\n",
       "        vertical-align: top;\n",
       "    }\n",
       "\n",
       "    .dataframe thead th {\n",
       "        text-align: right;\n",
       "    }\n",
       "</style>\n",
       "<table border=\"1\" class=\"dataframe\">\n",
       "  <thead>\n",
       "    <tr style=\"text-align: right;\">\n",
       "      <th></th>\n",
       "      <th>model</th>\n",
       "      <th>best_score</th>\n",
       "      <th>best_params</th>\n",
       "    </tr>\n",
       "  </thead>\n",
       "  <tbody>\n",
       "    <tr>\n",
       "      <th>0</th>\n",
       "      <td>LinearRegression</td>\n",
       "      <td>0.568233</td>\n",
       "      <td>{'fit_intercept': False, 'positive': False}</td>\n",
       "    </tr>\n",
       "    <tr>\n",
       "      <th>1</th>\n",
       "      <td>Lasso</td>\n",
       "      <td>0.537837</td>\n",
       "      <td>{'alpha': 1, 'selection': 'cyclic'}</td>\n",
       "    </tr>\n",
       "    <tr>\n",
       "      <th>2</th>\n",
       "      <td>decision_tree</td>\n",
       "      <td>0.548978</td>\n",
       "      <td>{'criterion': 'friedman_mse', 'splitter': 'ran...</td>\n",
       "    </tr>\n",
       "  </tbody>\n",
       "</table>\n",
       "</div>"
      ],
      "text/plain": [
       "              model  best_score  \\\n",
       "0  LinearRegression    0.568233   \n",
       "1             Lasso    0.537837   \n",
       "2     decision_tree    0.548978   \n",
       "\n",
       "                                         best_params  \n",
       "0        {'fit_intercept': False, 'positive': False}  \n",
       "1                {'alpha': 1, 'selection': 'cyclic'}  \n",
       "2  {'criterion': 'friedman_mse', 'splitter': 'ran...  "
      ]
     },
     "execution_count": 17,
     "metadata": {},
     "output_type": "execute_result"
    }
   ],
   "source": [
    "from sklearn.model_selection import GridSearchCV\n",
    "\n",
    "from sklearn.linear_model import Lasso\n",
    "from sklearn.tree import DecisionTreeRegressor\n",
    "\n",
    "def find_best_model_using_gridsearchcv(X,y):\n",
    "    algos = {\n",
    "        'LinearRegression' : {\n",
    "            'model' : LinearRegression(),\n",
    "            'params' : {\n",
    "                'fit_intercept': [True, False], \n",
    "                'positive': [True, False]\n",
    "            }\n",
    "        },\n",
    "        'Lasso' : {\n",
    "            'model' : Lasso(),\n",
    "            'params' : {\n",
    "                'alpha' : [1,2],\n",
    "                'selection' : ['random', 'cyclic']\n",
    "            }\n",
    "        },\n",
    "        'decision_tree' : {\n",
    "            'model' : DecisionTreeRegressor(),\n",
    "            'params' : {\n",
    "                'criterion' : ['mse', 'friedman_mse'],\n",
    "                'splitter' : ['best', 'random']\n",
    "            }\n",
    "        }\n",
    "    }\n",
    "\n",
    "    scores = []\n",
    "    cv = ShuffleSplit(n_splits=5, test_size=0.2, random_state=0)\n",
    "\n",
    "    for algo_name, config in algos.items():\n",
    "        gs = GridSearchCV(config['model'], config['params'], cv=cv, return_train_score=False)\n",
    "        gs.fit(X,y)\n",
    "        scores.append({\n",
    "            'model': algo_name,\n",
    "            'best_score': gs.best_score_,\n",
    "            'best_params': gs.best_params_\n",
    "        })\n",
    "    return pd.DataFrame(scores, columns=['model', 'best_score', 'best_params'])\n",
    "\n",
    "find_best_model_using_gridsearchcv(X,y)"
   ]
  },
  {
   "cell_type": "code",
   "execution_count": 18,
   "id": "88599358",
   "metadata": {
    "execution": {
     "iopub.execute_input": "2024-03-31T00:02:14.451007Z",
     "iopub.status.busy": "2024-03-31T00:02:14.450582Z",
     "iopub.status.idle": "2024-03-31T00:02:14.458902Z",
     "shell.execute_reply": "2024-03-31T00:02:14.457799Z"
    },
    "papermill": {
     "duration": 0.03444,
     "end_time": "2024-03-31T00:02:14.461227",
     "exception": false,
     "start_time": "2024-03-31T00:02:14.426787",
     "status": "completed"
    },
    "tags": []
   },
   "outputs": [],
   "source": [
    "def predict_price(age,dist_to_mrt,con_stores,lat, long):\n",
    "\n",
    "    x = np.zeros(len(X.columns))\n",
    "    x[0] = age\n",
    "    x[1] = dist_to_mrt\n",
    "    x[2] = con_stores\n",
    "    x[3] = lat\n",
    "    x[4] = long\n",
    "\n",
    "\n",
    "    return lr_clf.predict([x])[0]"
   ]
  },
  {
   "cell_type": "code",
   "execution_count": 19,
   "id": "dc9f588a",
   "metadata": {
    "execution": {
     "iopub.execute_input": "2024-03-31T00:02:14.496617Z",
     "iopub.status.busy": "2024-03-31T00:02:14.495946Z",
     "iopub.status.idle": "2024-03-31T00:02:14.502389Z",
     "shell.execute_reply": "2024-03-31T00:02:14.501507Z"
    },
    "papermill": {
     "duration": 0.025163,
     "end_time": "2024-03-31T00:02:14.504596",
     "exception": false,
     "start_time": "2024-03-31T00:02:14.479433",
     "status": "completed"
    },
    "tags": []
   },
   "outputs": [
    {
     "data": {
      "text/plain": [
       "291.6398733395017"
      ]
     },
     "execution_count": 19,
     "metadata": {},
     "output_type": "execute_result"
    }
   ],
   "source": [
    "predict_price(10, 80, 5, 26, 121)"
   ]
  },
  {
   "cell_type": "markdown",
   "id": "6024955f",
   "metadata": {
    "papermill": {
     "duration": 0.015733,
     "end_time": "2024-03-31T00:02:14.535662",
     "exception": false,
     "start_time": "2024-03-31T00:02:14.519929",
     "status": "completed"
    },
    "tags": []
   },
   "source": [
    "### Polynimial Regression"
   ]
  },
  {
   "cell_type": "code",
   "execution_count": 20,
   "id": "5b11222e",
   "metadata": {
    "execution": {
     "iopub.execute_input": "2024-03-31T00:02:14.569135Z",
     "iopub.status.busy": "2024-03-31T00:02:14.568772Z",
     "iopub.status.idle": "2024-03-31T00:02:15.139104Z",
     "shell.execute_reply": "2024-03-31T00:02:15.137717Z"
    },
    "papermill": {
     "duration": 0.592241,
     "end_time": "2024-03-31T00:02:15.143626",
     "exception": false,
     "start_time": "2024-03-31T00:02:14.551385",
     "status": "completed"
    },
    "tags": []
   },
   "outputs": [
    {
     "name": "stdout",
     "output_type": "stream",
     "text": [
      "[0.68319561 0.60164668 0.51552573 0.57883    0.69359204]\n",
      "[ 0.68624648  0.72129322  0.38576358 -0.30036532  0.06273273]\n",
      "[ 5.62662296e-01 -3.16780240e+01  1.14272731e-02  2.12910774e-01\n",
      " -8.85490730e-01]\n",
      "[   0.58380934 -149.58249589  -18.06184667   -0.33774282  -62.23090582]\n",
      "[  -2.21696298 -130.11032833 -452.55237993   -1.43716494  -23.02845818]\n"
     ]
    }
   ],
   "source": [
    "from sklearn.preprocessing import PolynomialFeatures\n",
    "\n",
    "# Find the best degree for polynomial regressor\n",
    "degrees = [2, 3, 4, 5, 6] # Change degree \"hyperparameter\" here\n",
    "best_score = 0\n",
    "best_degree = 0\n",
    "for degree in degrees:\n",
    "    \n",
    "    poly_features = PolynomialFeatures(degree = degree)\n",
    "    X_train_poly = poly_features.fit_transform(X_train)\n",
    "    polynomial_regressor = LinearRegression()\n",
    "    polynomial_regressor.fit(X_train_poly, y_train)\n",
    "    scores = cross_val_score(polynomial_regressor, X_train_poly, y_train, cv=5) # Change k-fold cv value here\n",
    "    print(scores)\n",
    "    if max(scores) > best_score:\n",
    "        best_score = max(scores)\n",
    "        best_degree = degree"
   ]
  },
  {
   "cell_type": "code",
   "execution_count": 21,
   "id": "8b20011a",
   "metadata": {
    "execution": {
     "iopub.execute_input": "2024-03-31T00:02:15.272499Z",
     "iopub.status.busy": "2024-03-31T00:02:15.271364Z",
     "iopub.status.idle": "2024-03-31T00:02:15.277398Z",
     "shell.execute_reply": "2024-03-31T00:02:15.276414Z"
    },
    "papermill": {
     "duration": 0.06487,
     "end_time": "2024-03-31T00:02:15.279893",
     "exception": false,
     "start_time": "2024-03-31T00:02:15.215023",
     "status": "completed"
    },
    "tags": []
   },
   "outputs": [
    {
     "name": "stdout",
     "output_type": "stream",
     "text": [
      "Best score: 0.7212932205002645 Best degree: 3\n"
     ]
    }
   ],
   "source": [
    "print('Best score:', best_score, 'Best degree:', best_degree)"
   ]
  },
  {
   "cell_type": "code",
   "execution_count": 22,
   "id": "e0cb91a8",
   "metadata": {
    "execution": {
     "iopub.execute_input": "2024-03-31T00:02:15.315306Z",
     "iopub.status.busy": "2024-03-31T00:02:15.314954Z",
     "iopub.status.idle": "2024-03-31T00:02:15.359859Z",
     "shell.execute_reply": "2024-03-31T00:02:15.358544Z"
    },
    "papermill": {
     "duration": 0.066825,
     "end_time": "2024-03-31T00:02:15.364007",
     "exception": false,
     "start_time": "2024-03-31T00:02:15.297182",
     "status": "completed"
    },
    "tags": []
   },
   "outputs": [
    {
     "name": "stdout",
     "output_type": "stream",
     "text": [
      "The model performance for the training set\n",
      "-------------------------------------------\n",
      "RMSE of training set is 7.994133755824163\n",
      "R2 score of training set is 0.6583360420323032\n",
      "\n",
      "\n",
      "The model performance for the test set\n",
      "-------------------------------------------\n",
      "RMSE of test set is 8.197892629465239\n",
      "R2 score of test set is 0.6075713521576707\n"
     ]
    }
   ],
   "source": [
    "from sklearn.metrics import mean_squared_error, r2_score\n",
    "\n",
    "best_poly_reg = LinearRegression()\n",
    "best_poly_features = PolynomialFeatures(degree = best_degree)\n",
    "best_X_train_poly = best_poly_features.fit_transform(X_train)\n",
    "best_poly_reg.fit(best_X_train_poly, y_train)\n",
    "\n",
    "y_train_predicted = best_poly_reg.predict(best_X_train_poly)\n",
    "  \n",
    "# predicting on test data-set\n",
    "y_test_predict = best_poly_reg.predict(best_poly_features.fit_transform(X_test))\n",
    "\n",
    "# evaluating the model on training dataset\n",
    "rmse_train = np.sqrt(mean_squared_error(y_train, y_train_predicted))\n",
    "r2_train = r2_score(y_train, y_train_predicted)\n",
    "\n",
    "# evaluating the model on test dataset\n",
    "rmse_test = np.sqrt(mean_squared_error(y_test, y_test_predict))\n",
    "r2_test = r2_score(y_test, y_test_predict)\n",
    "\n",
    "print(\"The model performance for the training set\")\n",
    "print(\"-------------------------------------------\")\n",
    "print(\"RMSE of training set is {}\".format(rmse_train))\n",
    "print(\"R2 score of training set is {}\".format(r2_train))\n",
    "\n",
    "print(\"\\n\")\n",
    "\n",
    "print(\"The model performance for the test set\")\n",
    "print(\"-------------------------------------------\")\n",
    "print(\"RMSE of test set is {}\".format(rmse_test))\n",
    "print(\"R2 score of test set is {}\".format(r2_test))"
   ]
  },
  {
   "cell_type": "code",
   "execution_count": 23,
   "id": "4b10730e",
   "metadata": {
    "execution": {
     "iopub.execute_input": "2024-03-31T00:02:15.477232Z",
     "iopub.status.busy": "2024-03-31T00:02:15.476851Z",
     "iopub.status.idle": "2024-03-31T00:02:15.512317Z",
     "shell.execute_reply": "2024-03-31T00:02:15.511252Z"
    },
    "papermill": {
     "duration": 0.078276,
     "end_time": "2024-03-31T00:02:15.514847",
     "exception": false,
     "start_time": "2024-03-31T00:02:15.436571",
     "status": "completed"
    },
    "tags": []
   },
   "outputs": [
    {
     "data": {
      "text/plain": [
       "array([0.68463546, 0.53209757, 0.66649314, 0.42112676, 0.57912236])"
      ]
     },
     "execution_count": 23,
     "metadata": {},
     "output_type": "execute_result"
    }
   ],
   "source": [
    "cross_val_score(best_poly_reg, X, y)"
   ]
  },
  {
   "cell_type": "markdown",
   "id": "3c299c08",
   "metadata": {
    "papermill": {
     "duration": 0.018079,
     "end_time": "2024-03-31T00:02:15.551478",
     "exception": false,
     "start_time": "2024-03-31T00:02:15.533399",
     "status": "completed"
    },
    "tags": []
   },
   "source": [
    "### Manually perform Multiple Linear Regression"
   ]
  },
  {
   "cell_type": "markdown",
   "id": "ebe1aef2",
   "metadata": {
    "papermill": {
     "duration": 0.016363,
     "end_time": "2024-03-31T00:02:15.584883",
     "exception": false,
     "start_time": "2024-03-31T00:02:15.568520",
     "status": "completed"
    },
    "tags": []
   },
   "source": [
    "#### Initialise weights and bias"
   ]
  },
  {
   "cell_type": "code",
   "execution_count": 24,
   "id": "6fad3462",
   "metadata": {
    "execution": {
     "iopub.execute_input": "2024-03-31T00:02:15.661691Z",
     "iopub.status.busy": "2024-03-31T00:02:15.660751Z",
     "iopub.status.idle": "2024-03-31T00:02:15.665596Z",
     "shell.execute_reply": "2024-03-31T00:02:15.664737Z"
    },
    "papermill": {
     "duration": 0.066577,
     "end_time": "2024-03-31T00:02:15.667723",
     "exception": false,
     "start_time": "2024-03-31T00:02:15.601146",
     "status": "completed"
    },
    "tags": []
   },
   "outputs": [],
   "source": [
    "def predict(x, w, b): \n",
    "\n",
    "    p = x.dot(w) + b     \n",
    "    return p  "
   ]
  },
  {
   "cell_type": "code",
   "execution_count": 25,
   "id": "0c0ed54e",
   "metadata": {
    "execution": {
     "iopub.execute_input": "2024-03-31T00:02:15.704059Z",
     "iopub.status.busy": "2024-03-31T00:02:15.703654Z",
     "iopub.status.idle": "2024-03-31T00:02:15.709547Z",
     "shell.execute_reply": "2024-03-31T00:02:15.708611Z"
    },
    "papermill": {
     "duration": 0.02735,
     "end_time": "2024-03-31T00:02:15.711988",
     "exception": false,
     "start_time": "2024-03-31T00:02:15.684638",
     "status": "completed"
    },
    "tags": []
   },
   "outputs": [],
   "source": [
    "def compute_cost(X, y, w, b): \n",
    "\n",
    "    m = X.shape[0]\n",
    "    cost = 0.0\n",
    "    for i in range(m):                                \n",
    "        f_wb_i = X.iloc[i].dot(w) + b           \n",
    "        cost = cost + (f_wb_i - y.iloc[i])**2      \n",
    "    cost = cost / (2 * m)                         \n",
    "    return cost"
   ]
  },
  {
   "cell_type": "code",
   "execution_count": 26,
   "id": "0361a7f1",
   "metadata": {
    "execution": {
     "iopub.execute_input": "2024-03-31T00:02:15.748289Z",
     "iopub.status.busy": "2024-03-31T00:02:15.747915Z",
     "iopub.status.idle": "2024-03-31T00:02:15.754804Z",
     "shell.execute_reply": "2024-03-31T00:02:15.753856Z"
    },
    "papermill": {
     "duration": 0.027677,
     "end_time": "2024-03-31T00:02:15.757037",
     "exception": false,
     "start_time": "2024-03-31T00:02:15.729360",
     "status": "completed"
    },
    "tags": []
   },
   "outputs": [],
   "source": [
    "def compute_gradient(X, y, w, b): \n",
    "\n",
    "    m,n = X.shape           \n",
    "    dj_dw = np.zeros((n,))\n",
    "    dj_db = 0.\n",
    "\n",
    "    for i in range(m):                             \n",
    "        err = (X.iloc[i].dot(w) + b) - y.iloc[i]  \n",
    "        for j in range(n):                         \n",
    "            dj_dw[j] = dj_dw[j] + err * X.iloc[i, j]    \n",
    "        dj_db = dj_db + err                        \n",
    "    dj_dw = dj_dw / m                                \n",
    "    dj_db = dj_db / m                                \n",
    "        \n",
    "    return dj_db, dj_dw\n"
   ]
  },
  {
   "cell_type": "markdown",
   "id": "90846db9",
   "metadata": {
    "papermill": {
     "duration": 0.017204,
     "end_time": "2024-03-31T00:02:15.791309",
     "exception": false,
     "start_time": "2024-03-31T00:02:15.774105",
     "status": "completed"
    },
    "tags": []
   },
   "source": [
    "# "
   ]
  },
  {
   "cell_type": "code",
   "execution_count": 27,
   "id": "a2ee0800",
   "metadata": {
    "execution": {
     "iopub.execute_input": "2024-03-31T00:02:15.829532Z",
     "iopub.status.busy": "2024-03-31T00:02:15.828568Z",
     "iopub.status.idle": "2024-03-31T00:02:15.836666Z",
     "shell.execute_reply": "2024-03-31T00:02:15.835627Z"
    },
    "papermill": {
     "duration": 0.029361,
     "end_time": "2024-03-31T00:02:15.838787",
     "exception": false,
     "start_time": "2024-03-31T00:02:15.809426",
     "status": "completed"
    },
    "tags": []
   },
   "outputs": [],
   "source": [
    "import copy, math\n",
    "\n",
    "def gradient_descent(X, y, w_in, b_in, cost_function, gradient_function, alpha, num_iters): \n",
    "    \n",
    "    J_history = []\n",
    "    w = copy.deepcopy(w_in)  \n",
    "    b = b_in\n",
    "    \n",
    "    for i in range(num_iters):\n",
    "\n",
    "        \n",
    "        dj_db,dj_dw = gradient_function(X, y, w, b)   \n",
    "\n",
    "        \n",
    "        w = w - alpha * dj_dw               \n",
    "        b = b - alpha * dj_db               \n",
    "      \n",
    "        \n",
    "        if i<100000:      \n",
    "            J_history.append( cost_function(X, y, w, b))\n",
    "\n",
    "        \n",
    "        if i% math.ceil(num_iters / 10) == 0:\n",
    "            print(f\"Iteration {i:4d}: Cost {J_history[-1]:8.2f}   \")\n",
    "        \n",
    "    return w, b, J_history \n"
   ]
  },
  {
   "cell_type": "markdown",
   "id": "4ef5a891",
   "metadata": {
    "papermill": {
     "duration": 0.017182,
     "end_time": "2024-03-31T00:02:15.873631",
     "exception": false,
     "start_time": "2024-03-31T00:02:15.856449",
     "status": "completed"
    },
    "tags": []
   },
   "source": [
    "### Train the model using manual implementation"
   ]
  },
  {
   "cell_type": "code",
   "execution_count": 28,
   "id": "22e54014",
   "metadata": {
    "execution": {
     "iopub.execute_input": "2024-03-31T00:02:15.911544Z",
     "iopub.status.busy": "2024-03-31T00:02:15.910694Z",
     "iopub.status.idle": "2024-03-31T00:04:12.207759Z",
     "shell.execute_reply": "2024-03-31T00:04:12.206642Z"
    },
    "papermill": {
     "duration": 116.320622,
     "end_time": "2024-03-31T00:04:12.212053",
     "exception": false,
     "start_time": "2024-03-31T00:02:15.891431",
     "status": "completed"
    },
    "tags": []
   },
   "outputs": [
    {
     "name": "stdout",
     "output_type": "stream",
     "text": [
      "Iteration    0: Cost 64880.82   \n",
      "Iteration  100: Cost   106.45   \n",
      "Iteration  200: Cost   105.71   \n",
      "Iteration  300: Cost   104.98   \n",
      "Iteration  400: Cost   104.27   \n",
      "Iteration  500: Cost   103.57   \n",
      "Iteration  600: Cost   102.88   \n",
      "Iteration  700: Cost   102.19   \n",
      "Iteration  800: Cost   101.52   \n",
      "Iteration  900: Cost   100.85   \n",
      "b,w found by gradient descent: -0.00,[ 0.71307342 -0.00602128  0.85914664  0.69571784  0.0860902 ] \n",
      "prediction: 44.6413965316203, target value: 27.0\n",
      "prediction: 36.72790219330445, target value: 32.9\n",
      "prediction: 63.13501156139361, target value: 67.7\n",
      "prediction: 26.71893765001491, target value: 55.3\n",
      "prediction: 34.31442463833278, target value: 25.3\n",
      "prediction: 37.8726665693632, target value: 33.6\n",
      "prediction: 41.73557427634067, target value: 42.1\n",
      "prediction: 25.892294409521856, target value: 42.3\n",
      "prediction: 25.72312789761099, target value: 48.0\n",
      "prediction: 36.95155838043475, target value: 23.1\n",
      "prediction: 56.415964279667655, target value: 39.4\n",
      "prediction: 58.38444653165728, target value: 44.3\n",
      "prediction: 41.16992199707522, target value: 7.6\n",
      "prediction: 15.355789586229333, target value: 18.8\n",
      "prediction: 28.693351934029305, target value: 26.2\n",
      "prediction: 33.517614361722615, target value: 45.4\n",
      "prediction: 37.55896645755388, target value: 55.5\n",
      "prediction: 36.72790219330445, target value: 37.3\n",
      "prediction: 25.892294409521856, target value: 43.2\n",
      "prediction: 37.673178685042274, target value: 42.0\n",
      "prediction: 34.04124435894207, target value: 43.2\n",
      "prediction: 49.104398760662534, target value: 36.5\n",
      "prediction: 51.07149578281264, target value: 41.4\n",
      "prediction: 52.305495530197355, target value: 36.8\n",
      "prediction: 39.732632920300084, target value: 58.1\n",
      "prediction: 43.60427672373547, target value: 55.1\n",
      "prediction: 33.30911439262499, target value: 34.1\n",
      "prediction: 36.477807837766285, target value: 40.3\n",
      "prediction: 35.99615973679846, target value: 53.5\n",
      "prediction: 15.378332915916666, target value: 18.3\n",
      "prediction: 34.45328804868217, target value: 37.8\n",
      "prediction: 39.56294419531698, target value: 43.1\n",
      "prediction: 45.74139098520168, target value: 46.7\n",
      "prediction: 52.499125320135875, target value: 38.4\n",
      "prediction: 58.51694319365791, target value: 39.7\n",
      "prediction: 31.082133559585614, target value: 21.8\n",
      "prediction: 32.15061336101015, target value: 41.6\n",
      "prediction: 33.61393007384239, target value: 32.2\n",
      "prediction: 34.48141364691889, target value: 57.1\n",
      "prediction: 55.65867226746925, target value: 48.5\n",
      "prediction: 52.59829672932835, target value: 37.5\n",
      "prediction: 39.732632920300084, target value: 59.0\n",
      "prediction: 32.578415337746, target value: 20.9\n",
      "prediction: 39.206407486926075, target value: 37.4\n",
      "prediction: 41.81061131938202, target value: 19.1\n",
      "prediction: 42.1069377647884, target value: 41.4\n",
      "prediction: 39.582550060980935, target value: 42.4\n",
      "prediction: 54.123409644962074, target value: 40.6\n",
      "prediction: 41.48969646782563, target value: 27.0\n",
      "prediction: 31.231638774081176, target value: 69.7\n",
      "prediction: 55.2130051010136, target value: 46.6\n",
      "prediction: 29.289693705940945, target value: 25.6\n",
      "prediction: 29.690309859031263, target value: 30.5\n",
      "prediction: 19.91076011298998, target value: 29.3\n",
      "prediction: 27.04716888634744, target value: 43.5\n",
      "prediction: 42.39339726941152, target value: 37.5\n",
      "prediction: 39.23202635845192, target value: 57.4\n",
      "prediction: 20.256666867886896, target value: 31.7\n",
      "prediction: 17.667215691093798, target value: 14.4\n",
      "prediction: 35.33736204626094, target value: 23.0\n",
      "prediction: 31.231638774081176, target value: 73.6\n",
      "prediction: 59.37621314658254, target value: 46.1\n",
      "prediction: 29.983366668308143, target value: 29.5\n",
      "prediction: 28.378189640816117, target value: 22.9\n",
      "prediction: 29.295782206507543, target value: 43.5\n",
      "prediction: 36.73450088934346, target value: 44.7\n",
      "prediction: 3.5444307041515524, target value: 15.0\n",
      "prediction: 48.986104781614344, target value: 46.6\n",
      "prediction: 28.391773325714084, target value: 23.2\n",
      "prediction: 47.43522641211676, target value: 22.8\n",
      "prediction: 14.950488865847577, target value: 20.5\n",
      "prediction: 55.329087054908605, target value: 33.1\n",
      "prediction: 52.41906776297512, target value: 40.2\n",
      "prediction: 13.212949886693407, target value: 27.3\n",
      "prediction: 50.832055317668, target value: 30.9\n",
      "prediction: 34.776754182031716, target value: 47.7\n",
      "prediction: 36.623528180482865, target value: 28.5\n",
      "prediction: 27.079175858446728, target value: 28.8\n",
      "prediction: 22.13269652780936, target value: 21.8\n",
      "prediction: 48.378027416782224, target value: 34.1\n",
      "prediction: 22.372005205745822, target value: 32.1\n",
      "prediction: 15.638776005383562, target value: 22.0\n",
      "prediction: 43.22503008164485, target value: 42.2\n",
      "prediction: 37.845229410663926, target value: 35.6\n",
      "prediction: 25.118873549790443, target value: 27.3\n",
      "prediction: 30.259619624622566, target value: 21.8\n",
      "prediction: 48.33758365088667, target value: 35.5\n",
      "prediction: 53.94079109269319, target value: 30.5\n",
      "prediction: 36.75194726342996, target value: 61.9\n",
      "prediction: 41.775038860604255, target value: 55.9\n",
      "prediction: 25.762576001039236, target value: 21.3\n",
      "prediction: 39.65987040852101, target value: 51.6\n",
      "prediction: 31.341975739184797, target value: 24.7\n",
      "prediction: 45.837488642351815, target value: 47.1\n",
      "prediction: 38.36232719264452, target value: 42.5\n",
      "prediction: 32.537364526155265, target value: 55.0\n",
      "prediction: 22.482501622833162, target value: 13.2\n",
      "prediction: 31.231638774081176, target value: 63.3\n",
      "prediction: 23.124267697936798, target value: 22.6\n",
      "prediction: 52.83256509403556, target value: 43.4\n",
      "prediction: 29.26381066745476, target value: 29.5\n",
      "prediction: 52.7445030544386, target value: 28.5\n",
      "prediction: 22.728541914136727, target value: 27.7\n",
      "prediction: 19.323675022917296, target value: 33.4\n",
      "prediction: 16.737620812448977, target value: 45.1\n",
      "prediction: 31.722769310941057, target value: 47.7\n",
      "prediction: 28.07747864194127, target value: 31.3\n",
      "prediction: 18.85684140732684, target value: 15.6\n",
      "prediction: 17.245277443807876, target value: 46.6\n",
      "prediction: 53.85733600791768, target value: 31.5\n",
      "prediction: 48.19496896753031, target value: 37.5\n",
      "prediction: 12.235004800441995, target value: 13.0\n",
      "prediction: 58.89312882479476, target value: 78.0\n",
      "prediction: 51.879043967167604, target value: 36.2\n",
      "prediction: 49.801923879632916, target value: 38.1\n",
      "prediction: 58.7431982148029, target value: 37.9\n",
      "prediction: 43.662137341818344, target value: 44.2\n",
      "prediction: 40.77485477341315, target value: 25.9\n",
      "prediction: 34.45058638420748, target value: 30.7\n",
      "prediction: 31.365562555601315, target value: 50.4\n",
      "prediction: 43.4363561488321, target value: 13.7\n",
      "prediction: 50.16489782306418, target value: 42.9\n",
      "prediction: 38.35886751467329, target value: 43.9\n",
      "prediction: 44.96709624970494, target value: 31.6\n",
      "prediction: 55.1514967312041, target value: 26.9\n",
      "prediction: 32.14234356022029, target value: 17.7\n",
      "prediction: 13.073954652527522, target value: 15.6\n",
      "prediction: 50.71860362315754, target value: 40.8\n",
      "prediction: 30.811061077665833, target value: 21.4\n",
      "prediction: 29.192503325776578, target value: 26.6\n",
      "prediction: 29.917532403373578, target value: 55.0\n",
      "prediction: 60.00484676918861, target value: 41.0\n",
      "prediction: 38.57624921767907, target value: 42.3\n",
      "prediction: 16.62673048409193, target value: 24.7\n",
      "prediction: 59.37038450946349, target value: 47.1\n",
      "prediction: 33.636747926815104, target value: 49.5\n",
      "prediction: 30.10910444792018, target value: 27.3\n",
      "prediction: 58.47448948356342, target value: 48.2\n",
      "prediction: 32.151719095909954, target value: 25.7\n",
      "prediction: 21.200015576913838, target value: 27.0\n",
      "prediction: 27.96082638207075, target value: 24.8\n",
      "prediction: 36.89700936751916, target value: 57.8\n",
      "prediction: 48.24837906241996, target value: 42.0\n",
      "prediction: 51.08858389018553, target value: 41.0\n",
      "prediction: 14.736566840813031, target value: 11.6\n",
      "prediction: 36.42400378686755, target value: 62.1\n",
      "prediction: 56.17377925853159, target value: 42.3\n",
      "prediction: 10.188413721277112, target value: 19.2\n",
      "prediction: 42.307561846959, target value: 43.7\n",
      "prediction: 32.96558628951012, target value: 40.5\n",
      "prediction: 37.05981506580661, target value: 47.0\n",
      "prediction: 39.233481528552815, target value: 52.7\n",
      "prediction: 29.192503325776578, target value: 30.1\n",
      "prediction: 40.48322964037168, target value: 47.3\n",
      "prediction: 41.94949630137521, target value: 55.0\n",
      "prediction: 36.591886205987095, target value: 44.8\n",
      "prediction: 20.327974209565078, target value: 33.4\n",
      "prediction: 36.51919169996112, target value: 49.3\n",
      "prediction: 38.24363741846773, target value: 47.3\n",
      "prediction: 40.76359903710079, target value: 47.4\n",
      "prediction: 32.11176862861944, target value: 36.9\n",
      "prediction: 37.510464669383865, target value: 40.3\n",
      "prediction: 12.19117823208159, target value: 12.2\n",
      "prediction: 38.64755655935725, target value: 31.3\n",
      "prediction: 32.553409128988186, target value: 40.6\n",
      "prediction: 57.14252873814391, target value: 39.1\n",
      "prediction: 37.18223873423189, target value: 56.8\n",
      "prediction: 41.55753923462419, target value: 36.6\n",
      "prediction: 32.99886278363754, target value: 26.6\n",
      "prediction: 20.208385662699083, target value: 15.5\n",
      "prediction: 32.43580065438964, target value: 22.1\n",
      "prediction: 41.82170839807568, target value: 42.0\n",
      "prediction: 52.78016159549236, target value: 34.2\n",
      "prediction: 50.4204961958705, target value: 36.5\n",
      "prediction: 31.725763568682368, target value: 45.7\n",
      "prediction: 41.94949630137521, target value: 46.2\n",
      "prediction: 41.60901529372801, target value: 47.0\n",
      "prediction: 46.090952169678665, target value: 48.1\n",
      "prediction: 40.4520421261334, target value: 53.3\n",
      "prediction: 22.85745543083281, target value: 23.5\n",
      "prediction: 48.980759762750566, target value: 40.3\n",
      "prediction: 34.87726075643248, target value: 117.5\n",
      "prediction: 49.98082303462069, target value: 44.0\n",
      "prediction: 35.34898358628983, target value: 40.9\n",
      "prediction: 30.49690742177858, target value: 28.1\n",
      "prediction: 19.070763432361385, target value: 22.1\n",
      "prediction: 17.948814313413408, target value: 17.4\n",
      "prediction: 39.447403553587364, target value: 58.0\n",
      "prediction: 37.915188427506, target value: 46.8\n",
      "prediction: 2.02120097531254, target value: 11.2\n",
      "prediction: 52.201957499366806, target value: 42.5\n",
      "prediction: 48.705733240389165, target value: 37.4\n",
      "prediction: 56.63598445130692, target value: 39.7\n",
      "prediction: 42.962145941645545, target value: 19.0\n",
      "prediction: 55.640566305193104, target value: 46.0\n",
      "prediction: 32.3947498427989, target value: 58.8\n",
      "prediction: 42.88436550430108, target value: 51.0\n",
      "prediction: 53.97086364346302, target value: 41.1\n",
      "prediction: 39.80804940600605, target value: 46.4\n",
      "prediction: 57.86428198281688, target value: 38.1\n",
      "prediction: 17.339357512779333, target value: 13.4\n",
      "prediction: 29.23512766880925, target value: 20.9\n",
      "prediction: 56.474292170371804, target value: 36.3\n",
      "prediction: 43.67329247959682, target value: 12.8\n",
      "prediction: 42.35148968251252, target value: 48.1\n",
      "prediction: 37.202429749162974, target value: 51.8\n",
      "prediction: 37.55896645755388, target value: 56.8\n",
      "prediction: 39.59001823694372, target value: 59.5\n",
      "prediction: 30.975186867731118, target value: 24.6\n",
      "prediction: 30.937718505532224, target value: 51.8\n",
      "prediction: 24.44288487406423, target value: 21.7\n",
      "prediction: 39.01955950351827, target value: 50.0\n",
      "prediction: 37.417385360594835, target value: 37.4\n",
      "prediction: 39.21341444121527, target value: 49.8\n",
      "prediction: 28.978581300742032, target value: 28.4\n",
      "prediction: 58.46867210911043, target value: 40.9\n",
      "prediction: 57.76746654592182, target value: 37.4\n",
      "prediction: 54.21816214566465, target value: 39.6\n",
      "prediction: 27.04716888634744, target value: 45.4\n",
      "prediction: 15.307025574238484, target value: 18.2\n",
      "prediction: 61.87645312075348, target value: 32.4\n",
      "prediction: 42.092110984731576, target value: 53.0\n",
      "prediction: 21.955093317149164, target value: 35.6\n",
      "prediction: 38.64755655935725, target value: 38.9\n",
      "prediction: 33.73695844269408, target value: 36.7\n",
      "prediction: 37.084438901695364, target value: 29.3\n",
      "prediction: 18.17755249738533, target value: 29.3\n",
      "prediction: 32.73060405906037, target value: 23.6\n",
      "prediction: 40.41588428252652, target value: 20.7\n",
      "prediction: 33.68523741552057, target value: 34.3\n",
      "prediction: 37.05981506580661, target value: 38.4\n",
      "prediction: 38.43363453432271, target value: 40.5\n",
      "prediction: 47.55454676834869, target value: 55.3\n",
      "prediction: 38.24363741846773, target value: 54.8\n",
      "prediction: 39.37464104180828, target value: 47.9\n",
      "prediction: 61.68538097985513, target value: 60.7\n",
      "prediction: 31.023989291456466, target value: 30.6\n",
      "prediction: 38.101022735111364, target value: 45.9\n",
      "prediction: 57.86428198281688, target value: 38.3\n",
      "prediction: 26.71893765001491, target value: 37.9\n",
      "prediction: 41.53647903136295, target value: 39.3\n",
      "prediction: 57.07122139646573, target value: 41.5\n",
      "prediction: 32.69602381234455, target value: 39.0\n",
      "prediction: 54.740225636357444, target value: 34.7\n",
      "prediction: 21.43085684580538, target value: 17.4\n",
      "prediction: 32.99886278363754, target value: 26.5\n",
      "prediction: 44.08886836403777, target value: 21.5\n",
      "prediction: 21.424196286155727, target value: 31.3\n",
      "prediction: 60.976150780775555, target value: 78.3\n",
      "prediction: 42.05101424484053, target value: 40.1\n",
      "prediction: 24.80413709982896, target value: 23.1\n",
      "prediction: 39.51871089526554, target value: 58.1\n",
      "prediction: 58.347722101789486, target value: 48.5\n",
      "prediction: 23.620559877296667, target value: 23.9\n",
      "prediction: 33.52604219491892, target value: 50.8\n",
      "prediction: 42.333611442408255, target value: 40.6\n",
      "prediction: 55.67857870302351, target value: 42.2\n",
      "prediction: 38.8614785843918, target value: 40.1\n",
      "prediction: 44.610559541314025, target value: 26.5\n",
      "prediction: 51.766830038106995, target value: 37.0\n",
      "prediction: 27.102171668992327, target value: 23.6\n",
      "prediction: 37.94100354536147, target value: 50.2\n",
      "prediction: 28.647937375366723, target value: 30.8\n",
      "prediction: 33.52604219491892, target value: 44.9\n",
      "prediction: 32.60613652937965, target value: 45.1\n",
      "prediction: 33.35151856010238, target value: 43.1\n",
      "prediction: 45.30721629918329, target value: 39.5\n",
      "prediction: 29.98883974505176, target value: 53.9\n",
      "prediction: 59.24751061988901, target value: 30.0\n",
      "prediction: 40.309427442777036, target value: 44.5\n",
      "prediction: 42.23625450528082, target value: 34.4\n",
      "prediction: 41.52165225130612, target value: 46.1\n",
      "prediction: 35.23195572475557, target value: 20.8\n",
      "prediction: 30.916046563009804, target value: 45.5\n",
      "prediction: 27.02120787180055, target value: 24.7\n",
      "prediction: 51.87255808993899, target value: 40.8\n",
      "prediction: 38.91297030403677, target value: 30.6\n",
      "prediction: 48.59272030052014, target value: 37.2\n",
      "prediction: 44.90748887207413, target value: 40.6\n",
      "prediction: 52.09126634939479, target value: 39.7\n",
      "prediction: 38.99949241618072, target value: 54.4\n",
      "prediction: 17.029457884300164, target value: 22.3\n",
      "prediction: 35.30326306643376, target value: 22.3\n",
      "prediction: 60.28413472392938, target value: 41.0\n",
      "prediction: 14.807874182491213, target value: 12.9\n",
      "prediction: 43.66481695386587, target value: 16.1\n",
      "prediction: 44.54152128698131, target value: 42.3\n",
      "prediction: 41.537319026360855, target value: 23.5\n",
      "prediction: 42.21771824459281, target value: 24.5\n",
      "prediction: 37.416351774197516, target value: 42.8\n",
      "prediction: 50.3320184952411, target value: 25.0\n",
      "prediction: 37.52642605593073, target value: 37.7\n",
      "prediction: 41.94949630137521, target value: 51.4\n",
      "prediction: 20.445753568440015, target value: 25.3\n",
      "prediction: 38.057803110862366, target value: 39.4\n",
      "prediction: 39.233481528552815, target value: 56.3\n",
      "prediction: 39.09086684519645, target value: 53.5\n",
      "prediction: 34.71145228759421, target value: 53.7\n",
      "prediction: 24.656806899098772, target value: 28.9\n",
      "prediction: 56.87655662275178, target value: 48.2\n",
      "prediction: 30.93951887622925, target value: 23.8\n",
      "prediction: 31.866489729197227, target value: 25.6\n",
      "prediction: 49.62050982136825, target value: 31.9\n",
      "prediction: 36.037474591588705, target value: 42.6\n",
      "prediction: 58.013914736220194, target value: 42.0\n",
      "prediction: 29.690309859031263, target value: 23.0\n",
      "prediction: 34.243117296654596, target value: 25.5\n",
      "prediction: 42.81327699390637, target value: 49.3\n",
      "prediction: 29.568932775661636, target value: 27.7\n",
      "prediction: 51.244034766822544, target value: 32.5\n",
      "prediction: 58.805433052638705, target value: 48.0\n",
      "prediction: 33.9484455014559, target value: 41.2\n",
      "prediction: 41.878188959697034, target value: 51.7\n",
      "prediction: 43.30560063342744, target value: 42.5\n",
      "prediction: 35.69389875465185, target value: 29.7\n",
      "prediction: 34.76806922931512, target value: 45.3\n",
      "prediction: 31.231638774081176, target value: 70.1\n",
      "prediction: 33.16086770374585, target value: 51.7\n",
      "prediction: 12.931339969171159, target value: 15.9\n",
      "prediction: 37.065716457833425, target value: 26.5\n",
      "prediction: 13.073954652527522, target value: 20.0\n",
      "prediction: 18.09142899676977, target value: 18.8\n",
      "prediction: 13.00264731084934, target value: 15.4\n",
      "prediction: 25.820987067843674, target value: 38.5\n",
      "prediction: 42.095840686094746, target value: 18.3\n",
      "prediction: 26.71893765001491, target value: 45.5\n",
      "prediction: 31.65256770416268, target value: 22.8\n",
      "prediction: 12.163697458763814, target value: 18.6\n",
      "prediction: 51.53200865488622, target value: 50.5\n",
      "prediction: 32.60613652937965, target value: 48.6\n",
      "prediction: 37.5600000439512, target value: 38.1\n"
     ]
    }
   ],
   "source": [
    "rng = np.random.default_rng(seed=42)\n",
    "m, n = X.shape\n",
    "initial_w = rng.random(n)\n",
    "initial_b = 0\n",
    "iterations = 1000\n",
    "alpha = 5.0e-7\n",
    "\n",
    "w_final, b_final, J_hist = gradient_descent(X_train, y_train, initial_w, initial_b,\n",
    "                                                    compute_cost, compute_gradient, \n",
    "                                                    alpha, iterations)\n",
    "print(f\"b,w found by gradient descent: {b_final:0.2f},{w_final} \")\n",
    "m,_ = X_train.shape\n",
    "for i in range(m):\n",
    "    print(f\"prediction: {predict(X_train.iloc[i], w_final, b_final)}, target value: {y_train.iloc[i]}\")"
   ]
  },
  {
   "cell_type": "markdown",
   "id": "7c2a48f6",
   "metadata": {
    "papermill": {
     "duration": 0.01951,
     "end_time": "2024-03-31T00:04:12.253287",
     "exception": false,
     "start_time": "2024-03-31T00:04:12.233777",
     "status": "completed"
    },
    "tags": []
   },
   "source": [
    "### Initialise weights as 0's to see if it helps"
   ]
  },
  {
   "cell_type": "code",
   "execution_count": 29,
   "id": "3c476c75",
   "metadata": {
    "execution": {
     "iopub.execute_input": "2024-03-31T00:04:12.294171Z",
     "iopub.status.busy": "2024-03-31T00:04:12.293767Z",
     "iopub.status.idle": "2024-03-31T00:06:07.801252Z",
     "shell.execute_reply": "2024-03-31T00:06:07.800152Z"
    },
    "papermill": {
     "duration": 115.533805,
     "end_time": "2024-03-31T00:06:07.806281",
     "exception": false,
     "start_time": "2024-03-31T00:04:12.272476",
     "status": "completed"
    },
    "tags": []
   },
   "outputs": [
    {
     "name": "stdout",
     "output_type": "stream",
     "text": [
      "Iteration    0: Cost   671.81   \n",
      "Iteration  100: Cost   289.24   \n",
      "Iteration  200: Cost   148.65   \n",
      "Iteration  300: Cost    91.85   \n",
      "Iteration  400: Cost    68.88   \n",
      "Iteration  500: Cost    59.57   \n",
      "Iteration  600: Cost    55.78   \n",
      "Iteration  700: Cost    54.21   \n",
      "Iteration  800: Cost    53.55   \n",
      "Iteration  900: Cost    53.25   \n",
      "b,w found by gradient descent: 0.00,[ 0.0337295  -0.0067722   0.0195751   0.07152762  0.34802678] \n",
      "prediction: 35.479647217040686, target value: 27.0\n",
      "prediction: 43.380604679814205, target value: 32.9\n",
      "prediction: 44.79618643119114, target value: 67.7\n",
      "prediction: 42.8295062021915, target value: 55.3\n",
      "prediction: 37.937580117662044, target value: 25.3\n",
      "prediction: 42.663267517209555, target value: 33.6\n",
      "prediction: 42.76496302078309, target value: 42.1\n",
      "prediction: 34.897093148908034, target value: 42.3\n",
      "prediction: 34.86045065324164, target value: 48.0\n",
      "prediction: 37.677551906183055, target value: 23.1\n",
      "prediction: 44.018050368411856, target value: 39.4\n",
      "prediction: 44.13307780892151, target value: 44.3\n",
      "prediction: 42.040243354227655, target value: 7.6\n",
      "prediction: 17.002626350688107, target value: 18.8\n",
      "prediction: 35.28605753155841, target value: 26.2\n",
      "prediction: 43.03478954843323, target value: 45.4\n",
      "prediction: 43.76286385189868, target value: 55.5\n",
      "prediction: 43.380604679814205, target value: 37.3\n",
      "prediction: 34.897093148908034, target value: 43.2\n",
      "prediction: 40.80431437418474, target value: 42.0\n",
      "prediction: 41.03676909487234, target value: 43.2\n",
      "prediction: 41.96693935405501, target value: 36.5\n",
      "prediction: 42.53532156200308, target value: 41.4\n",
      "prediction: 41.183015526652085, target value: 36.8\n",
      "prediction: 43.87567526168639, target value: 58.1\n",
      "prediction: 43.35561667774132, target value: 55.1\n",
      "prediction: 36.83731391747688, target value: 34.1\n",
      "prediction: 40.954563622073415, target value: 40.3\n",
      "prediction: 43.95880250340446, target value: 53.5\n",
      "prediction: 17.103700763359473, target value: 18.3\n",
      "prediction: 39.496409566077254, target value: 37.8\n",
      "prediction: 42.34282063795067, target value: 43.1\n",
      "prediction: 42.944078874066996, target value: 46.7\n",
      "prediction: 42.40022140918039, target value: 38.4\n",
      "prediction: 44.20764797259102, target value: 39.7\n",
      "prediction: 28.125358651682525, target value: 21.8\n",
      "prediction: 40.418917315956534, target value: 41.6\n",
      "prediction: 36.71919684274507, target value: 32.2\n",
      "prediction: 41.372341771537585, target value: 57.1\n",
      "prediction: 42.39629191507214, target value: 48.5\n",
      "prediction: 41.61595334600141, target value: 37.5\n",
      "prediction: 43.87567526168639, target value: 59.0\n",
      "prediction: 32.67231599311829, target value: 20.9\n",
      "prediction: 42.325955890015436, target value: 37.4\n",
      "prediction: 36.53992556927136, target value: 19.1\n",
      "prediction: 42.99063074850512, target value: 41.4\n",
      "prediction: 42.35590917578259, target value: 42.4\n",
      "prediction: 41.983339188745006, target value: 40.6\n",
      "prediction: 35.03183894487775, target value: 27.0\n",
      "prediction: 42.2234193588742, target value: 69.7\n",
      "prediction: 41.55941171022282, target value: 46.6\n",
      "prediction: 30.43800956978795, target value: 25.6\n",
      "prediction: 32.98530200682935, target value: 30.5\n",
      "prediction: 28.875487367095218, target value: 29.3\n",
      "prediction: 42.24904553698138, target value: 43.5\n",
      "prediction: 40.5177458468352, target value: 37.5\n",
      "prediction: 42.67067787016611, target value: 57.4\n",
      "prediction: 29.72593647052991, target value: 31.7\n",
      "prediction: 14.218350781372044, target value: 14.4\n",
      "prediction: 39.01068394241938, target value: 23.0\n",
      "prediction: 42.2234193588742, target value: 73.6\n",
      "prediction: 44.58034659946143, target value: 46.1\n",
      "prediction: 29.424777146836075, target value: 29.5\n",
      "prediction: 31.509499819654433, target value: 22.9\n",
      "prediction: 38.03786084289682, target value: 43.5\n",
      "prediction: 41.80352427525884, target value: 44.7\n",
      "prediction: 1.9847853198337702, target value: 15.0\n",
      "prediction: 44.340780271337366, target value: 46.6\n",
      "prediction: 29.198484467749246, target value: 23.2\n",
      "prediction: 38.33484926484452, target value: 22.8\n",
      "prediction: 17.083463065837186, target value: 20.5\n",
      "prediction: 41.256174574164135, target value: 33.1\n",
      "prediction: 41.64478809147407, target value: 40.2\n",
      "prediction: 16.925870882049537, target value: 27.3\n",
      "prediction: 41.17471719821721, target value: 30.9\n",
      "prediction: 44.117541294023084, target value: 47.7\n",
      "prediction: 43.26308567860941, target value: 28.5\n",
      "prediction: 32.891438933735955, target value: 28.8\n",
      "prediction: 26.85770246441153, target value: 21.8\n",
      "prediction: 41.17246384611268, target value: 34.1\n",
      "prediction: 29.64649228291055, target value: 32.1\n",
      "prediction: 23.55029138306067, target value: 22.0\n",
      "prediction: 41.24240778754035, target value: 42.2\n",
      "prediction: 39.18254455660066, target value: 35.6\n",
      "prediction: 29.256633883538264, target value: 27.3\n",
      "prediction: 29.9899971964117, target value: 21.8\n",
      "prediction: 41.82040656458412, target value: 35.5\n",
      "prediction: 42.65120465251355, target value: 30.5\n",
      "prediction: 41.87367533816292, target value: 61.9\n",
      "prediction: 43.270165703392124, target value: 55.9\n",
      "prediction: 31.41047881740851, target value: 21.3\n",
      "prediction: 42.6909155676884, target value: 51.6\n",
      "prediction: 33.55322751929772, target value: 24.7\n",
      "prediction: 43.54295375468911, target value: 47.1\n",
      "prediction: 41.286317016234364, target value: 42.5\n",
      "prediction: 41.71667370085142, target value: 55.0\n",
      "prediction: 14.537246173589578, target value: 13.2\n",
      "prediction: 42.2234193588742, target value: 63.3\n",
      "prediction: 14.56760271987301, target value: 22.6\n",
      "prediction: 42.9607806336936, target value: 43.4\n",
      "prediction: 35.313041128254795, target value: 29.5\n",
      "prediction: 41.50548869932569, target value: 28.5\n",
      "prediction: 29.663357030845788, target value: 27.7\n",
      "prediction: 30.136007814922568, target value: 33.4\n",
      "prediction: 19.025943677808424, target value: 45.1\n",
      "prediction: 40.398679618434244, target value: 47.7\n",
      "prediction: 32.93866022795462, target value: 31.3\n",
      "prediction: 14.326393377004422, target value: 15.6\n",
      "prediction: 23.007072962372735, target value: 46.6\n",
      "prediction: 41.08556504686269, target value: 31.5\n",
      "prediction: 41.81366066541002, target value: 37.5\n",
      "prediction: 16.106694822290834, target value: 13.0\n",
      "prediction: 43.30142982600437, target value: 78.0\n",
      "prediction: 42.08710923689861, target value: 36.2\n",
      "prediction: 42.824907484121695, target value: 38.1\n",
      "prediction: 44.78937310729072, target value: 37.9\n",
      "prediction: 41.42696640177807, target value: 44.2\n",
      "prediction: 33.39015471422439, target value: 25.9\n",
      "prediction: 34.674456165412316, target value: 30.7\n",
      "prediction: 42.01091492065013, target value: 50.4\n",
      "prediction: 37.292371699960405, target value: 13.7\n",
      "prediction: 43.38451854509805, target value: 42.9\n",
      "prediction: 41.67935569511696, target value: 43.9\n",
      "prediction: 41.801616448658756, target value: 31.6\n",
      "prediction: 43.5048923926231, target value: 26.9\n",
      "prediction: 26.653456159134514, target value: 17.7\n",
      "prediction: 16.894691963902574, target value: 15.6\n",
      "prediction: 42.627486649393965, target value: 40.8\n",
      "prediction: 34.75303575453928, target value: 21.4\n",
      "prediction: 35.30966817866775, target value: 26.6\n",
      "prediction: 40.64425226006501, target value: 55.0\n",
      "prediction: 44.05659855944662, target value: 41.0\n",
      "prediction: 41.2964358649955, target value: 42.3\n",
      "prediction: 23.58590226294326, target value: 24.7\n",
      "prediction: 44.80331237067324, target value: 47.1\n",
      "prediction: 41.724612531559764, target value: 49.5\n",
      "prediction: 32.75197335380973, target value: 27.3\n",
      "prediction: 44.546971227862194, target value: 48.2\n",
      "prediction: 30.043526631141336, target value: 25.7\n",
      "prediction: 34.31120117845204, target value: 27.0\n",
      "prediction: 32.38924099450468, target value: 24.8\n",
      "prediction: 44.02474038411821, target value: 57.8\n",
      "prediction: 41.85575798430429, target value: 42.0\n",
      "prediction: 42.48450234416577, target value: 41.0\n",
      "prediction: 17.07334421707604, target value: 11.6\n",
      "prediction: 43.97904020092675, target value: 62.1\n",
      "prediction: 41.25920482165204, target value: 42.3\n",
      "prediction: 13.565207577692512, target value: 19.2\n",
      "prediction: 42.140196386003616, target value: 43.7\n",
      "prediction: 41.76929699831244, target value: 40.5\n",
      "prediction: 43.73925320478934, target value: 47.0\n",
      "prediction: 43.85206461457705, target value: 52.7\n",
      "prediction: 35.30966817866775, target value: 30.1\n",
      "prediction: 43.63732261533917, target value: 47.3\n",
      "prediction: 42.77508186954423, target value: 55.0\n",
      "prediction: 41.796778376084745, target value: 44.8\n",
      "prediction: 29.729309420116955, target value: 33.4\n",
      "prediction: 41.66134499710127, target value: 49.3\n",
      "prediction: 40.831297970881124, target value: 47.3\n",
      "prediction: 42.50404558671217, target value: 47.4\n",
      "prediction: 43.192344407136076, target value: 36.9\n",
      "prediction: 38.184262652827286, target value: 40.3\n",
      "prediction: 1.8098160631799078, target value: 12.2\n",
      "prediction: 41.299808814582555, target value: 31.3\n",
      "prediction: 39.55211356726042, target value: 40.6\n",
      "prediction: 44.304993198425294, target value: 39.1\n",
      "prediction: 44.0382321824664, target value: 56.8\n",
      "prediction: 40.10544692798309, target value: 36.6\n",
      "prediction: 35.135014257500146, target value: 26.6\n",
      "prediction: 14.847309974519021, target value: 15.5\n",
      "prediction: 32.6655700939442, target value: 22.1\n",
      "prediction: 42.97713895015693, target value: 42.0\n",
      "prediction: 42.07563197064888, target value: 34.2\n",
      "prediction: 42.83985481510842, target value: 36.5\n",
      "prediction: 42.79273947437694, target value: 45.7\n",
      "prediction: 42.77508186954423, target value: 46.2\n",
      "prediction: 41.038229371104755, target value: 47.0\n",
      "prediction: 42.295511966632795, target value: 48.1\n",
      "prediction: 42.70424992821623, target value: 53.3\n",
      "prediction: 31.103731957936727, target value: 23.5\n",
      "prediction: 41.72062091729177, target value: 40.3\n",
      "prediction: 42.75840771862009, target value: 117.5\n",
      "prediction: 42.46232103031814, target value: 44.0\n",
      "prediction: 41.875139564336386, target value: 40.9\n",
      "prediction: 30.026152782979892, target value: 28.1\n",
      "prediction: 14.336512225765567, target value: 22.1\n",
      "prediction: 7.820855156863414, target value: 17.4\n",
      "prediction: 43.8621834633382, target value: 58.0\n",
      "prediction: 41.92698950678264, target value: 46.8\n",
      "prediction: 0.7323164444468203, target value: 11.2\n",
      "prediction: 43.83713586545711, target value: 42.5\n",
      "prediction: 41.62906103856128, target value: 37.4\n",
      "prediction: 44.210645669027976, target value: 39.7\n",
      "prediction: 37.29758325432558, target value: 19.0\n",
      "prediction: 43.169802839280294, target value: 46.0\n",
      "prediction: 41.70992780167733, target value: 58.8\n",
      "prediction: 42.57491699742671, target value: 51.0\n",
      "prediction: 42.086869581960904, target value: 41.1\n",
      "prediction: 39.828097100571775, target value: 46.4\n",
      "prediction: 42.17053032206162, target value: 38.1\n",
      "prediction: 13.696230309280686, target value: 13.4\n",
      "prediction: 32.24245468884981, target value: 20.9\n",
      "prediction: 43.579307010569856, target value: 36.3\n",
      "prediction: 37.32870255098447, target value: 12.8\n",
      "prediction: 43.648857930667134, target value: 48.1\n",
      "prediction: 43.745999103963435, target value: 51.8\n",
      "prediction: 43.76286385189868, target value: 56.8\n",
      "prediction: 43.86892936251229, target value: 59.5\n",
      "prediction: 35.39399191834394, target value: 24.6\n",
      "prediction: 41.99067722312784, target value: 51.8\n",
      "prediction: 33.73714068235111, target value: 21.7\n",
      "prediction: 43.84194576581591, target value: 50.0\n",
      "prediction: 39.16230685907838, target value: 37.4\n",
      "prediction: 41.953005642673894, target value: 49.8\n",
      "prediction: 35.299549329906604, target value: 28.4\n",
      "prediction: 44.23026368651925, target value: 40.9\n",
      "prediction: 41.523761394772585, target value: 37.4\n",
      "prediction: 41.28497289101739, target value: 39.6\n",
      "prediction: 42.24904553698138, target value: 45.4\n",
      "prediction: 17.100327813772424, target value: 18.2\n",
      "prediction: 43.346175132357814, target value: 32.4\n",
      "prediction: 42.78182776871833, target value: 53.0\n",
      "prediction: 31.647144233453364, target value: 35.6\n",
      "prediction: 41.299808814582555, target value: 38.9\n",
      "prediction: 36.85755161499917, target value: 36.7\n",
      "prediction: 43.39746942774944, target value: 29.3\n",
      "prediction: 20.72387907326958, target value: 29.3\n",
      "prediction: 34.5322765359049, target value: 23.6\n",
      "prediction: 33.25843014994889, target value: 20.7\n",
      "prediction: 36.72256979233212, target value: 34.3\n",
      "prediction: 43.73925320478934, target value: 38.4\n",
      "prediction: 41.28968996582141, target value: 40.5\n",
      "prediction: 40.29676135776375, target value: 55.3\n",
      "prediction: 40.831297970881124, target value: 54.8\n",
      "prediction: 42.67742376934021, target value: 47.9\n",
      "prediction: 44.75199849545471, target value: 60.7\n",
      "prediction: 36.20082891746682, target value: 30.6\n",
      "prediction: 40.82455207170703, target value: 45.9\n",
      "prediction: 42.17053032206162, target value: 38.3\n",
      "prediction: 42.8295062021915, target value: 37.9\n",
      "prediction: 42.963647151808736, target value: 39.3\n",
      "prediction: 44.30162024883825, target value: 41.5\n",
      "prediction: 39.55885946643452, target value: 39.0\n",
      "prediction: 41.88435444454867, target value: 34.7\n",
      "prediction: 15.120827704929663, target value: 17.4\n",
      "prediction: 35.135014257500146, target value: 26.5\n",
      "prediction: 35.39690555981664, target value: 21.5\n",
      "prediction: 31.183917236660637, target value: 31.3\n",
      "prediction: 44.25733704189601, target value: 78.3\n",
      "prediction: 42.12262058283142, target value: 40.1\n",
      "prediction: 30.233154219556393, target value: 23.1\n",
      "prediction: 43.865556412925244, target value: 58.1\n",
      "prediction: 44.27713420207345, target value: 48.5\n",
      "prediction: 29.414981486711504, target value: 23.9\n",
      "prediction: 41.970031960970104, target value: 50.8\n",
      "prediction: 42.11927418637266, target value: 40.6\n",
      "prediction: 44.06636057860848, target value: 42.2\n",
      "prediction: 41.3099276633437, target value: 40.1\n",
      "prediction: 41.78475170072352, target value: 26.5\n",
      "prediction: 42.03728649613168, target value: 37.0\n",
      "prediction: 30.04973963088651, target value: 23.6\n",
      "prediction: 43.43893234003351, target value: 50.2\n",
      "prediction: 32.96564382465101, target value: 30.8\n",
      "prediction: 41.970031960970104, target value: 44.9\n",
      "prediction: 42.931645457842706, target value: 45.1\n",
      "prediction: 41.71112073321157, target value: 43.1\n",
      "prediction: 42.32458986990682, target value: 39.5\n",
      "prediction: 40.647625209652055, target value: 53.9\n",
      "prediction: 42.671079341953096, target value: 30.0\n",
      "prediction: 42.69750402904213, target value: 44.5\n",
      "prediction: 42.13682343641657, target value: 34.4\n",
      "prediction: 42.75484417202195, target value: 46.1\n",
      "prediction: 37.89367732964109, target value: 20.8\n",
      "prediction: 41.20369429218519, target value: 45.5\n",
      "prediction: 17.179328864151685, target value: 24.7\n",
      "prediction: 41.004401731525114, target value: 40.8\n",
      "prediction: 34.26663624853844, target value: 30.6\n",
      "prediction: 44.09241642665944, target value: 37.2\n",
      "prediction: 42.21210956689079, target value: 40.6\n",
      "prediction: 41.37931586135623, target value: 39.7\n",
      "prediction: 41.942886793912756, target value: 54.4\n",
      "prediction: 27.955056218977887, target value: 22.3\n",
      "prediction: 37.89705027922815, target value: 22.3\n",
      "prediction: 44.43030695454278, target value: 41.0\n",
      "prediction: 17.07671716666309, target value: 12.9\n",
      "prediction: 37.39617924070938, target value: 16.1\n",
      "prediction: 42.32300963750454, target value: 42.3\n",
      "prediction: 31.850906418943293, target value: 23.5\n",
      "prediction: 42.093599043217225, target value: 24.5\n",
      "prediction: 43.75611795272458, target value: 42.8\n",
      "prediction: 40.011802679197594, target value: 25.0\n",
      "prediction: 38.20222213627035, target value: 37.7\n",
      "prediction: 42.77508186954423, target value: 51.4\n",
      "prediction: 18.11292128657796, target value: 25.3\n",
      "prediction: 41.93373540595674, target value: 39.4\n",
      "prediction: 43.85206461457705, target value: 56.3\n",
      "prediction: 43.845318715402954, target value: 53.5\n",
      "prediction: 42.6044287224081, target value: 53.7\n",
      "prediction: 33.747259531112256, target value: 28.9\n",
      "prediction: 43.96894336420141, target value: 48.2\n",
      "prediction: 28.11861275250843, target value: 23.8\n",
      "prediction: 30.03003483279314, target value: 25.6\n",
      "prediction: 39.14167730026965, target value: 31.9\n",
      "prediction: 41.60381408164782, target value: 42.6\n",
      "prediction: 44.15245518318718, target value: 42.0\n",
      "prediction: 32.98530200682935, target value: 23.0\n",
      "prediction: 37.93420716807499, target value: 25.5\n",
      "prediction: 42.571792681798804, target value: 49.3\n",
      "prediction: 29.98142270604854, target value: 27.7\n",
      "prediction: 42.42122600141105, target value: 32.5\n",
      "prediction: 44.62986815476443, target value: 48.0\n",
      "prediction: 24.35520676813574, target value: 41.2\n",
      "prediction: 42.771708919957184, target value: 51.7\n",
      "prediction: 41.41010165384283, target value: 42.5\n",
      "prediction: 39.027548690354614, target value: 29.7\n",
      "prediction: 43.0199224693544, target value: 45.3\n",
      "prediction: 42.2234193588742, target value: 70.1\n",
      "prediction: 42.20409145742639, target value: 51.7\n",
      "prediction: 16.887946064728478, target value: 15.9\n",
      "prediction: 42.30019852768894, target value: 26.5\n",
      "prediction: 16.894691963902574, target value: 20.0\n",
      "prediction: 7.827601056037513, target value: 18.8\n",
      "prediction: 16.891319014315528, target value: 15.4\n",
      "prediction: 34.89372019932099, target value: 38.5\n",
      "prediction: 36.55341736761955, target value: 18.3\n",
      "prediction: 42.8295062021915, target value: 45.5\n",
      "prediction: 30.019915984032, target value: 22.8\n",
      "prediction: 16.103321872703788, target value: 18.6\n",
      "prediction: 41.411901905248, target value: 50.5\n",
      "prediction: 42.931645457842706, target value: 48.6\n",
      "prediction: 39.16905275825247, target value: 38.1\n"
     ]
    }
   ],
   "source": [
    "initial_w = np.zeros(n)\n",
    "\n",
    "w_final, b_final, J_hist = gradient_descent(X_train, y_train, initial_w, initial_b,\n",
    "                                                    compute_cost, compute_gradient, \n",
    "                                                    alpha, iterations)\n",
    "print(f\"b,w found by gradient descent: {b_final:0.2f},{w_final} \")\n",
    "m,_ = X_train.shape\n",
    "\n",
    "train_predictions = []\n",
    "for i in range(m):\n",
    "    prediction = predict(X_train.iloc[i], w_final, b_final)\n",
    "    print(f\"prediction: {prediction}, target value: {y_train.iloc[i]}\")\n",
    "    train_predictions.append(prediction)\n"
   ]
  },
  {
   "cell_type": "code",
   "execution_count": 30,
   "id": "aff63326",
   "metadata": {
    "execution": {
     "iopub.execute_input": "2024-03-31T00:06:07.849405Z",
     "iopub.status.busy": "2024-03-31T00:06:07.849036Z",
     "iopub.status.idle": "2024-03-31T00:06:08.384836Z",
     "shell.execute_reply": "2024-03-31T00:06:08.383809Z"
    },
    "papermill": {
     "duration": 0.55902,
     "end_time": "2024-03-31T00:06:08.387248",
     "exception": false,
     "start_time": "2024-03-31T00:06:07.828228",
     "status": "completed"
    },
    "tags": []
   },
   "outputs": [
    {
     "data": {
      "image/png": "[encoded data removed]",
      "text/plain": [
       "<Figure size 1200x400 with 2 Axes>"
      ]
     },
     "metadata": {},
     "output_type": "display_data"
    }
   ],
   "source": [
    "fig, (ax1, ax2) = plt.subplots(1, 2, constrained_layout=True, figsize=(12, 4))\n",
    "ax1.plot(J_hist)\n",
    "ax2.plot(100 + np.arange(len(J_hist[100:])), J_hist[100:])\n",
    "ax1.set_title(\"Cost vs. iteration\");  ax2.set_title(\"Cost vs. iteration (tail)\")\n",
    "ax1.set_ylabel('Cost')             ;  ax2.set_ylabel('Cost') \n",
    "ax1.set_xlabel('iteration step')   ;  ax2.set_xlabel('iteration step') \n",
    "plt.show()"
   ]
  },
  {
   "cell_type": "markdown",
   "id": "d4798918",
   "metadata": {
    "papermill": {
     "duration": 0.020085,
     "end_time": "2024-03-31T00:06:08.429952",
     "exception": false,
     "start_time": "2024-03-31T00:06:08.409867",
     "status": "completed"
    },
    "tags": []
   },
   "source": [
    "### Get predictiosn for test data"
   ]
  },
  {
   "cell_type": "code",
   "execution_count": 31,
   "id": "faa1deca",
   "metadata": {
    "execution": {
     "iopub.execute_input": "2024-03-31T00:06:08.472410Z",
     "iopub.status.busy": "2024-03-31T00:06:08.471725Z",
     "iopub.status.idle": "2024-03-31T00:06:08.487575Z",
     "shell.execute_reply": "2024-03-31T00:06:08.486593Z"
    },
    "papermill": {
     "duration": 0.040609,
     "end_time": "2024-03-31T00:06:08.490777",
     "exception": false,
     "start_time": "2024-03-31T00:06:08.450168",
     "status": "completed"
    },
    "tags": []
   },
   "outputs": [
    {
     "name": "stdout",
     "output_type": "stream",
     "text": [
      "prediction: 17.024911303784396, target value: 14.7\n",
      "prediction: 43.2698315777835, target value: 33.1\n",
      "prediction: 42.84623181885211, target value: 42.2\n",
      "prediction: 42.46591041477548, target value: 36.3\n",
      "prediction: 43.95542955381741, target value: 54.4\n",
      "prediction: 17.103700763359473, target value: 20.7\n",
      "prediction: 42.8295062021915, target value: 55.2\n",
      "prediction: 43.872302312099336, target value: 63.9\n",
      "prediction: 42.864205235304176, target value: 41.9\n",
      "prediction: 35.30292227949365, target value: 28.9\n",
      "prediction: 29.50658216208047, target value: 28.6\n",
      "prediction: 33.70062280611905, target value: 31.1\n",
      "prediction: 42.84034365866091, target value: 35.1\n",
      "prediction: 42.055872646327416, target value: 42.5\n",
      "prediction: 16.106694822290834, target value: 19.2\n",
      "prediction: 42.78857366789242, target value: 59.6\n",
      "prediction: 26.640400209788975, target value: 25.7\n",
      "prediction: 42.8295062021915, target value: 52.2\n",
      "prediction: 34.31794707762614, target value: 25.6\n",
      "prediction: 42.62803936951744, target value: 63.2\n",
      "prediction: 42.76496302078309, target value: 53.0\n",
      "prediction: 41.57481231195365, target value: 34.6\n",
      "prediction: 29.1883656189881, target value: 24.4\n",
      "prediction: 40.94073684300155, target value: 34.2\n",
      "prediction: 27.96854801732608, target value: 24.7\n",
      "prediction: 40.110312828368606, target value: 40.8\n",
      "prediction: 43.74937205355049, target value: 52.5\n",
      "prediction: 29.732682369704005, target value: 31.3\n",
      "prediction: 16.98576160275287, target value: 12.8\n",
      "prediction: 41.895428342817766, target value: 34.1\n",
      "prediction: 37.300374953432154, target value: 13.8\n",
      "prediction: 42.24654179877618, target value: 38.8\n",
      "prediction: 32.48709710881015, target value: 31.1\n",
      "prediction: 39.13978199379212, target value: 36.7\n",
      "prediction: 41.70973029543557, target value: 32.9\n",
      "prediction: 42.79273947437694, target value: 44.0\n",
      "prediction: 41.67275782470875, target value: 29.8\n",
      "prediction: 41.3099276633437, target value: 48.0\n",
      "prediction: 42.78182776871833, target value: 41.2\n",
      "prediction: 43.86892936251229, target value: 62.2\n",
      "prediction: 42.92827250825565, target value: 50.7\n",
      "prediction: 41.165912060184105, target value: 40.3\n",
      "prediction: 33.80085000515482, target value: 29.4\n",
      "prediction: 41.69306305374209, target value: 56.2\n",
      "prediction: 42.240736159317485, target value: 35.7\n",
      "prediction: 38.222459833792634, target value: 38.2\n",
      "prediction: 41.017893529873305, target value: 61.5\n",
      "prediction: 43.73727821296233, target value: 63.3\n",
      "prediction: 42.2234193588742, target value: 71.0\n",
      "prediction: 40.61973294561508, target value: 39.6\n",
      "prediction: 40.92137535977101, target value: 34.6\n",
      "prediction: 43.74937205355049, target value: 51.6\n",
      "prediction: 40.017600180598016, target value: 62.9\n",
      "prediction: 44.117541294023084, target value: 49.7\n",
      "prediction: 35.30292227949365, target value: 25.3\n",
      "prediction: 32.66219714435715, target value: 23.7\n",
      "prediction: 36.98080612350843, target value: 23.8\n",
      "prediction: 42.931645457842706, target value: 54.4\n",
      "prediction: 41.717866632385665, target value: 52.2\n",
      "prediction: 41.70635734584852, target value: 34.0\n",
      "prediction: 41.28968996582141, target value: 39.3\n",
      "prediction: 43.543182165585534, target value: 40.2\n",
      "prediction: 42.78182776871833, target value: 51.0\n",
      "prediction: 44.7608236986065, target value: 44.3\n",
      "prediction: 29.729309420116955, target value: 28.4\n",
      "prediction: 42.81316999776405, target value: 38.6\n",
      "prediction: 42.64049083453252, target value: 35.3\n",
      "prediction: 39.489663666903155, target value: 37.0\n",
      "prediction: 41.3099276633437, target value: 43.8\n",
      "prediction: 45.31251433166603, target value: 42.7\n",
      "prediction: 42.931645457842706, target value: 49.0\n",
      "prediction: 41.44427195830492, target value: 45.2\n",
      "prediction: 39.01405689200642, target value: 28.8\n",
      "prediction: 42.24904553698138, target value: 52.2\n",
      "prediction: 38.191008552001385, target value: 40.0\n",
      "prediction: 30.053645479902478, target value: 27.7\n",
      "prediction: 16.992507501926966, target value: 16.7\n",
      "prediction: 42.685358779222376, target value: 36.8\n",
      "prediction: 19.04424603137978, target value: 29.3\n",
      "prediction: 29.729309420116955, target value: 30.7\n",
      "prediction: 39.554181990453, target value: 37.5\n",
      "prediction: 41.71667370085142, target value: 60.7\n",
      "prediction: 44.3040245249858, target value: 53.3\n"
     ]
    }
   ],
   "source": [
    "m = X_test.shape[0]\n",
    "test_predictions = []\n",
    "for i in range(m):\n",
    "    prediction = predict(X_test.iloc[i], w_final, b_final)\n",
    "    print(f\"prediction: {prediction}, target value: {y_test.iloc[i]}\")\n",
    "    test_predictions.append(prediction)"
   ]
  },
  {
   "cell_type": "markdown",
   "id": "f5fbe667",
   "metadata": {
    "papermill": {
     "duration": 0.022032,
     "end_time": "2024-03-31T00:06:08.534636",
     "exception": false,
     "start_time": "2024-03-31T00:06:08.512604",
     "status": "completed"
    },
    "tags": []
   },
   "source": [
    "### Calculate scores on training and testing data using RMSE and R2"
   ]
  },
  {
   "cell_type": "code",
   "execution_count": 32,
   "id": "5bfd680b",
   "metadata": {
    "execution": {
     "iopub.execute_input": "2024-03-31T00:06:08.580334Z",
     "iopub.status.busy": "2024-03-31T00:06:08.579564Z",
     "iopub.status.idle": "2024-03-31T00:06:08.590120Z",
     "shell.execute_reply": "2024-03-31T00:06:08.589048Z"
    },
    "papermill": {
     "duration": 0.037131,
     "end_time": "2024-03-31T00:06:08.593383",
     "exception": false,
     "start_time": "2024-03-31T00:06:08.556252",
     "status": "completed"
    },
    "tags": []
   },
   "outputs": [
    {
     "name": "stdout",
     "output_type": "stream",
     "text": [
      "The model performance for the training set\n",
      "-------------------------------------------\n",
      "RMSE of training set is 10.304832250175698\n",
      "R2 score of training set is 0.6583360420323032\n",
      "\n",
      "\n",
      "The model performance for the test set\n",
      "-------------------------------------------\n",
      "RMSE of test set is 9.619289091660406\n",
      "R2 score of test set is 0.6075713521576707\n"
     ]
    }
   ],
   "source": [
    "# evaluating the model on training dataset\n",
    "rmse_train = np.sqrt(mean_squared_error(y_train, train_predictions))\n",
    "r2_train = r2_score(y_train, y_train_predicted)\n",
    "\n",
    "# evaluating the model on test dataset\n",
    "rmse_test = np.sqrt(mean_squared_error(y_test, test_predictions))\n",
    "r2_test = r2_score(y_test, y_test_predict)\n",
    "\n",
    "print(\"The model performance for the training set\")\n",
    "print(\"-------------------------------------------\")\n",
    "print(\"RMSE of training set is {}\".format(rmse_train))\n",
    "print(\"R2 score of training set is {}\".format(r2_train))\n",
    "\n",
    "print(\"\\n\")\n",
    "\n",
    "print(\"The model performance for the test set\")\n",
    "print(\"-------------------------------------------\")\n",
    "print(\"RMSE of test set is {}\".format(rmse_test))\n",
    "print(\"R2 score of test set is {}\".format(r2_test))"
   ]
  },
  {
   "cell_type": "code",
   "execution_count": null,
   "id": "484fa90f",
   "metadata": {
    "papermill": {
     "duration": 0.021867,
     "end_time": "2024-03-31T00:06:08.638299",
     "exception": false,
     "start_time": "2024-03-31T00:06:08.616432",
     "status": "completed"
    },
    "tags": []
   },
   "outputs": [],
   "source": []
  }
 ],
 "metadata": {
  "kaggle": {
   "accelerator": "nvidiaTeslaT4",
   "dataSources": [
    {
     "datasetId": 88705,
     "sourceId": 204267,
     "sourceType": "datasetVersion"
    }
   ],
   "dockerImageVersionId": 30673,
   "isGpuEnabled": true,
   "isInternetEnabled": true,
   "language": "python",
   "sourceType": "notebook"
  },
  "kernelspec": {
   "display_name": "Python 3",
   "language": "python",
   "name": "python3"
  },
  "language_info": {
   "codemirror_mode": {
    "name": "ipython",
    "version": 3
   },
   "file_extension": ".py",
   "mimetype": "text/x-python",
   "name": "python",
   "nbconvert_exporter": "python",
   "pygments_lexer": "ipython3",
   "version": "3.10.13"
  },
  "papermill": {
   "default_parameters": {},
   "duration": 246.919408,
   "end_time": "2024-03-31T00:06:09.281272",
   "environment_variables": {},
   "exception": null,
   "input_path": "__notebook__.ipynb",
   "output_path": "__notebook__.ipynb",
   "parameters": {},
   "start_time": "2024-03-31T00:02:02.361864",
   "version": "2.5.0"
  }
 },
 "nbformat": 4,
 "nbformat_minor": 5
}
